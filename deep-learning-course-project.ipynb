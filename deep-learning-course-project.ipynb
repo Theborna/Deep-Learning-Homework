{
 "cells": [
  {
   "cell_type": "markdown",
   "metadata": {},
   "source": [
    "# Deep learning course project\n",
    "\n",
    "## Introduction\n",
    "\n",
    "This Jupyter Notebook implements a deep learning project using the BERT-GAN architecture for text classification. The project involves training a BERT-based generator and discriminator to perform text classification on a SemEval dataset."
   ]
  },
  {
   "cell_type": "markdown",
   "metadata": {},
   "source": [
    "## Setup and Environment\n",
    "\n",
    "here we implemenet the needed libraries for this project"
   ]
  },
  {
   "cell_type": "code",
   "execution_count": 47,
   "metadata": {
    "_cell_guid": "b1076dfc-b9ad-4769-8c92-a6c4dae69d19",
    "_uuid": "8f2839f25d086af736a60e9eeb907d3b93b6e0e5",
    "execution": {
     "iopub.execute_input": "2024-02-03T15:30:24.935782Z",
     "iopub.status.busy": "2024-02-03T15:30:24.935427Z",
     "iopub.status.idle": "2024-02-03T15:30:24.943947Z",
     "shell.execute_reply": "2024-02-03T15:30:24.942880Z",
     "shell.execute_reply.started": "2024-02-03T15:30:24.935755Z"
    }
   },
   "outputs": [
    {
     "name": "stdout",
     "output_type": "stream",
     "text": [
      "using cuda device\n",
      "using 2 GPUs!\n"
     ]
    }
   ],
   "source": [
    "import torch\n",
    "import torch.nn as nn\n",
    "import torch.optim as optim\n",
    "import torch.nn.functional as F\n",
    "from torchvision import datasets, transforms\n",
    "import matplotlib.pyplot as plt\n",
    "import numpy as np\n",
    "import random\n",
    "import torchvision\n",
    "from torch.utils.data import Dataset, DataLoader, random_split\n",
    "import os\n",
    "\n",
    "from transformers import AutoTokenizer, AutoModelForCausalLM, AutoConfig\n",
    "\n",
    "device = torch.device(\"cuda\" if torch.cuda.is_available() else \"cpu\")\n",
    "\n",
    "print(f\"using {device} device\")\n",
    "print(f\"using {torch.cuda.device_count()} GPUs!\")"
   ]
  },
  {
   "cell_type": "code",
   "execution_count": 4,
   "metadata": {
    "execution": {
     "iopub.status.idle": "2024-02-03T14:49:07.308734Z",
     "shell.execute_reply": "2024-02-03T14:49:07.307581Z",
     "shell.execute_reply.started": "2024-02-03T14:48:54.347414Z"
    }
   },
   "outputs": [
    {
     "name": "stdout",
     "output_type": "stream",
     "text": [
      "Installing collected packages: gdown\n",
      "Successfully installed gdown-5.1.0\n"
     ]
    }
   ],
   "source": [
    "!pip install gdown\n",
    "DOWNLOAD = True"
   ]
  },
  {
   "cell_type": "code",
   "execution_count": 7,
   "metadata": {
    "execution": {
     "iopub.status.idle": "2024-02-03T14:50:59.643800Z",
     "shell.execute_reply": "2024-02-03T14:50:59.642792Z",
     "shell.execute_reply.started": "2024-02-03T14:49:39.775072Z"
    }
   },
   "outputs": [
    {
     "name": "stdout",
     "output_type": "stream",
     "text": [
      "Successfully installed peft-0.8.2\n"
     ]
    }
   ],
   "source": [
    "!pip install git+https://github.com/adapter-hub/adapters.git\n",
    "!pip install git+https://github.com/huggingface/peft"
   ]
  },
  {
   "cell_type": "markdown",
   "metadata": {},
   "source": [
    "## Data Preparation\n",
    "\n",
    "in this section we create the `Dataset` and `DataLoader` classes that we will be using for this project."
   ]
  },
  {
   "cell_type": "markdown",
   "metadata": {},
   "source": [
    "### Custom `Dataset` classes\n",
    "\n",
    "This section defines two PyTorch datasets, `SemEvalDataset` and `MaskedSemEvalDataset`, tailored for handling SemEval-format datasets. The `SemEvalDataset` class initializes by optionally downloading the dataset, loading it from a specified path, and storing tokenized representations. The derived class, `MaskedSemEvalDataset`, extends the functionality by introducing a static mask for each sample based on a specified masking percentage. Both datasets enable efficient handling of raw text, labels, and tokenized representations."
   ]
  },
  {
   "cell_type": "code",
   "execution_count": 49,
   "metadata": {
    "execution": {
     "iopub.execute_input": "2024-02-03T15:30:57.994178Z",
     "iopub.status.busy": "2024-02-03T15:30:57.993340Z",
     "iopub.status.idle": "2024-02-03T15:30:58.009207Z",
     "shell.execute_reply": "2024-02-03T15:30:58.008147Z",
     "shell.execute_reply.started": "2024-02-03T15:30:57.994148Z"
    }
   },
   "outputs": [],
   "source": [
    "import json\n",
    "from torch.utils.data import Dataset\n",
    "\n",
    "class SemEvalDataset(Dataset):\n",
    "    def __init__(self, path, url=None, download=False):\n",
    "        if download and url is not None:\n",
    "            import gdown\n",
    "            gdown.download(url, path, quiet=False, fuzzy=True)\n",
    "        \n",
    "        with open(path) as f:\n",
    "            self.data = [json.loads(line) for line in f]\n",
    "            \n",
    "        self.K = len(set(sample['label'] for sample in self.data))\n",
    "        self.path = path\n",
    "        \n",
    "        self.tokenized_data = []\n",
    "        self.tokenizer = None\n",
    "        self.token_opts = {}\n",
    "\n",
    "    def __len__(self):\n",
    "        return len(self.data)\n",
    "\n",
    "    def __getitem__(self, idx):\n",
    "        if self.tokenizer is None:\n",
    "            token = []\n",
    "        elif idx < len(self.tokenized_data):\n",
    "            token = self.tokenized_data[idx]\n",
    "        else:\n",
    "            token = self.tokenizer(self.data[idx]['text'], **self.token_opts)\n",
    "            token.pop('token_type_ids', None)\n",
    "            token['input_ids'] = token['input_ids'].squeeze(dim=0)\n",
    "            token['attention_mask'] = token['attention_mask'].squeeze(dim=0)\n",
    "        return self.data[idx]['text'], self.data[idx]['label'], token\n",
    "    \n",
    "    def tokenize_data(self, tokenizer, opts):\n",
    "        from tqdm import tqdm\n",
    "        self.tokenized_data = []\n",
    "        self.tokenizer = tokenizer\n",
    "        self.token_opts = opts\n",
    "        for sample in tqdm(self.data, desc='Tokenizing data'):\n",
    "            text = sample['text']\n",
    "            token = tokenizer(text, **opts)\n",
    "#             tokens = {k: v.squeeze(dim=0) for k, v in tokens.items()}\n",
    "            token.pop('token_type_ids', None)\n",
    "            token['input_ids'] = token['input_ids'].squeeze(dim=0)\n",
    "            token['attention_mask'] = token['attention_mask'].squeeze(dim=0)\n",
    "            self.tokenized_data.append(token)\n",
    "        \n",
    "    \n",
    "class MaskedSemEvalDataset(SemEvalDataset):\n",
    "    def __init__(self, path, url=None, download=False, mask_percentage=0.5):\n",
    "        super().__init__(path, url, download)\n",
    "        self.mask_percentage = mask_percentage\n",
    "        # Generate a static mask\n",
    "        self.masks = [1 if random.random() < self.mask_percentage else 0 for _ in range(len(self))]\n",
    "\n",
    "    def __getitem__(self, idx):\n",
    "        text, label, token = super().__getitem__(idx)\n",
    "        mask = self.masks[idx]\n",
    "\n",
    "        return text, label, mask, token"
   ]
  },
  {
   "cell_type": "markdown",
   "metadata": {},
   "source": [
    "### Downloading the dataset\n",
    "\n",
    "in this section we download the original dataset from the given repository.\n",
    "\n",
    "equivalently one can just load the datasets via `pickle` from the later code sections."
   ]
  },
  {
   "cell_type": "code",
   "execution_count": 5,
   "metadata": {
    "execution": {
     "iopub.execute_input": "2024-02-03T14:49:13.485508Z",
     "iopub.status.busy": "2024-02-03T14:49:13.484588Z",
     "iopub.status.idle": "2024-02-03T14:49:24.393760Z",
     "shell.execute_reply": "2024-02-03T14:49:24.392909Z",
     "shell.execute_reply.started": "2024-02-03T14:49:13.485474Z"
    }
   },
   "outputs": [
    {
     "name": "stderr",
     "output_type": "stream",
     "text": [
      "Downloading...\n",
      "From (original): https://drive.google.com/uc?id=1k5LMwmYF7PF-BzYQNE2ULBae79nbM268\n",
      "From (redirected): https://drive.google.com/uc?id=1k5LMwmYF7PF-BzYQNE2ULBae79nbM268&confirm=t&uuid=9594dc83-4ab0-4232-a7e9-9dc09d8e160a\n",
      "To: /kaggle/working/train.json\n",
      "100%|██████████| 155M/155M [00:00<00:00, 262MB/s] \n",
      "Downloading...\n",
      "From: https://drive.google.com/uc?id=1oh9c-d0fo3NtETNySmCNLUc6H1j4dSWE\n",
      "To: /kaggle/working/test.json\n",
      "100%|██████████| 4.93M/4.93M [00:00<00:00, 195MB/s]"
     ]
    },
    {
     "name": "stdout",
     "output_type": "stream",
     "text": [
      "Number of training examples: 67475\n",
      "Number of validation examples: 3552\n",
      "Number of test examples: 3000\n",
      "Number of classes: 6\n"
     ]
    },
    {
     "name": "stderr",
     "output_type": "stream",
     "text": [
      "\n"
     ]
    }
   ],
   "source": [
    "# import gdown\n",
    "train_url = 'https://drive.google.com/file/d/1k5LMwmYF7PF-BzYQNE2ULBae79nbM268/view?usp=drive_link'\n",
    "test_url  = 'https://drive.google.com/file/d/1oh9c-d0fo3NtETNySmCNLUc6H1j4dSWE/view?usp=drive_link'\n",
    "\n",
    "# train_url = test_url # JUST FOR NOW!!!!\n",
    "\n",
    "train_path = 'train.json'\n",
    "test_path = 'test.json'\n",
    "\n",
    "full_dataset = SemEvalDataset(path=train_path, url=train_url, download=DOWNLOAD)\n",
    "test_dataset = SemEvalDataset(path=test_path, url=test_url,  download=DOWNLOAD)\n",
    "\n",
    "DOWNLOAD = False\n",
    "\n",
    "TOKENIZE = True\n",
    "\n",
    "num_samples = len(full_dataset)\n",
    "train_size = int(0.95 * num_samples)\n",
    "val_size = num_samples - train_size\n",
    "\n",
    "K = full_dataset.K\n",
    "\n",
    "print(f\"Number of training examples: {train_size}\")\n",
    "print(f\"Number of validation examples: {val_size}\")\n",
    "print(f\"Number of test examples: {len(test_dataset)}\")\n",
    "print(f\"Number of classes: {K}\")"
   ]
  },
  {
   "cell_type": "markdown",
   "metadata": {},
   "source": [
    "## Loading bert\n",
    "\n",
    "\n",
    "This section defines a function `get_bert` that loads pre-trained `BERT` or `DistilBERT` models along with their respective tokenizers. \n",
    "\n",
    "It includes an option to extend the model using the PEFT (Parameter Efficient Fine-Tuning) technique, allowing for different PEFT methods like `lora`, `adalora`, or `IA3`. Additionally, the function can print the number of trainable parameters in the loaded model when the `print_params` parameter is set to True."
   ]
  },
  {
   "cell_type": "code",
   "execution_count": 50,
   "metadata": {
    "execution": {
     "iopub.execute_input": "2024-02-03T15:31:02.283928Z",
     "iopub.status.busy": "2024-02-03T15:31:02.283567Z",
     "iopub.status.idle": "2024-02-03T15:31:02.295753Z",
     "shell.execute_reply": "2024-02-03T15:31:02.294764Z",
     "shell.execute_reply.started": "2024-02-03T15:31:02.283900Z"
    }
   },
   "outputs": [],
   "source": [
    "from transformers import BertTokenizer, BertModel, DistilBertTokenizer, DistilBertModel\n",
    "\n",
    "def print_trainable_parameters(model):\n",
    "    \"\"\"\n",
    "    Prints the number of trainable parameters in the model.\n",
    "    \"\"\"\n",
    "    trainable_params = 0\n",
    "    all_param = 0\n",
    "    for _, param in model.named_parameters():\n",
    "        all_param += param.numel()\n",
    "        if param.requires_grad:\n",
    "            trainable_params += param.numel()\n",
    "    print(\n",
    "        f\"trainable params: {trainable_params:.2e} || all params: {all_param:.2e} || trainable: {100 * trainable_params / all_param:.2f}%\"\n",
    "    )\n",
    "\n",
    "def get_bert(model=\"bert\", use_peft=False, print_params=False, peft_method=\"lora\"):\n",
    "    # Load pre-trained BERT\n",
    "    if model == \"bert\":\n",
    "        tokenizer = BertTokenizer.from_pretrained('bert-base-uncased')\n",
    "        bert = BertModel.from_pretrained('bert-base-uncased')\n",
    "    elif model == \"distil\":\n",
    "        tokenizer = DistilBertTokenizer.from_pretrained('distilbert-base-uncased')\n",
    "        bert = DistilBertModel.from_pretrained('distilbert-base-uncased')\n",
    "    else:\n",
    "        raise ValueError(\"Invalid bert model\")\n",
    "\n",
    "    # Peft\n",
    "    if use_peft:\n",
    "        if peft_method == \"lora\":\n",
    "            from peft import LoraConfig, LoraModel\n",
    "            # Let's define the LoraConfig\n",
    "            config = LoraConfig(\n",
    "                r=16, lora_alpha=16, lora_dropout=0.01,\n",
    "                bias=\"all\",  task_type=\"SEQ_CLS\", #target_modules=[\"q\", \"v\"],,\n",
    "            )\n",
    "            bert = LoraModel(bert, config, \"default\")\n",
    "        elif peft_method == \"adalora\":\n",
    "            from peft import AdaLoraModel, AdaLoraConfig\n",
    "            config = AdaLoraConfig(\n",
    "                peft_type=\"ADALORA\", task_type=\"SEQ_CLS\", r=8, lora_alpha=32,# target_modules=[\"q\", \"v\"],\n",
    "                lora_dropout=0.01, adapter_name=\"default\",\n",
    "            )\n",
    "            bert = AdaLoraModel(bert, config, \"default\")\n",
    "        elif peft_method == \"IA3\":\n",
    "            from peft import IA3Model, IA3Config\n",
    "            config = IA3Config(\n",
    "                peft_type=\"IA3\", task_type=\"SEQ_CLS\",\n",
    "#                 target_modules=[\"k\", \"v\", \"w0\"], feedforward_modules=[\"w0\"],\n",
    "            )\n",
    "            bert = IA3Model(bert, config, \"default\")\n",
    "            \n",
    "    if print_params:\n",
    "        print_trainable_parameters(bert)\n",
    "    \n",
    "    return bert, tokenizer"
   ]
  },
  {
   "cell_type": "markdown",
   "metadata": {},
   "source": [
    "## Tokenization and Preprocessing\n",
    "\n",
    "in this section we preprocess the data, as in tokenizing the dataset, and finding good parameters for things such as `MAX_LEN` for tokenization, and seeing the data distribution."
   ]
  },
  {
   "cell_type": "code",
   "execution_count": 8,
   "metadata": {
    "execution": {
     "iopub.execute_input": "2024-02-03T14:51:09.497590Z",
     "iopub.status.busy": "2024-02-03T14:51:09.496593Z",
     "iopub.status.idle": "2024-02-03T14:51:13.377240Z",
     "shell.execute_reply": "2024-02-03T14:51:13.376362Z",
     "shell.execute_reply.started": "2024-02-03T14:51:09.497544Z"
    }
   },
   "outputs": [
    {
     "data": {
      "application/vnd.jupyter.widget-view+json": {
       "model_id": "41a3089261fa465fa204391f812fceb2",
       "version_major": 2,
       "version_minor": 0
      },
      "text/plain": [
       "tokenizer_config.json:   0%|          | 0.00/28.0 [00:00<?, ?B/s]"
      ]
     },
     "metadata": {},
     "output_type": "display_data"
    },
    {
     "data": {
      "application/vnd.jupyter.widget-view+json": {
       "model_id": "0f91d8c571994c5abe2f0fb1d1458b44",
       "version_major": 2,
       "version_minor": 0
      },
      "text/plain": [
       "vocab.txt:   0%|          | 0.00/232k [00:00<?, ?B/s]"
      ]
     },
     "metadata": {},
     "output_type": "display_data"
    },
    {
     "data": {
      "application/vnd.jupyter.widget-view+json": {
       "model_id": "4e498b966abf4d6fb27b77b2d879353c",
       "version_major": 2,
       "version_minor": 0
      },
      "text/plain": [
       "tokenizer.json:   0%|          | 0.00/466k [00:00<?, ?B/s]"
      ]
     },
     "metadata": {},
     "output_type": "display_data"
    },
    {
     "data": {
      "application/vnd.jupyter.widget-view+json": {
       "model_id": "e0567ab9f74c4cb49018d4f496090f7c",
       "version_major": 2,
       "version_minor": 0
      },
      "text/plain": [
       "config.json:   0%|          | 0.00/570 [00:00<?, ?B/s]"
      ]
     },
     "metadata": {},
     "output_type": "display_data"
    },
    {
     "data": {
      "application/vnd.jupyter.widget-view+json": {
       "model_id": "5dcf2bff7f214a60909ed500e0ad25f7",
       "version_major": 2,
       "version_minor": 0
      },
      "text/plain": [
       "model.safetensors:   0%|          | 0.00/440M [00:00<?, ?B/s]"
      ]
     },
     "metadata": {},
     "output_type": "display_data"
    },
    {
     "name": "stdout",
     "output_type": "stream",
     "text": [
      "trainable params: 6.45e+04 || all params: 1.10e+08 || trainable: 0.06%\n",
      "Last hidden states:  torch.Size([1, 7, 768])\n"
     ]
    }
   ],
   "source": [
    "bert, tokenizer = get_bert(model=\"bert\", use_peft=True, print_params=True, peft_method=\"IA3\")\n",
    "\n",
    "# Test\n",
    "text = \"Ali nourian save me\"\n",
    "tokens = tokenizer(text, return_tensors='pt')\n",
    "outputs = bert(**tokens)\n",
    "\n",
    "last_hidden_states = outputs.last_hidden_state\n",
    "_, _, hidden_dim = last_hidden_states.shape\n",
    "print(\"Last hidden states: \", last_hidden_states.shape)"
   ]
  },
  {
   "cell_type": "markdown",
   "metadata": {},
   "source": [
    "### Data distribution\n",
    "\n",
    "in this section we visualize the datasets length and class distribution."
   ]
  },
  {
   "cell_type": "code",
   "execution_count": 9,
   "metadata": {
    "execution": {
     "iopub.execute_input": "2024-02-02T15:50:54.548642Z",
     "iopub.status.busy": "2024-02-02T15:50:54.548252Z",
     "iopub.status.idle": "2024-02-02T15:50:56.307985Z",
     "shell.execute_reply": "2024-02-02T15:50:56.307003Z",
     "shell.execute_reply.started": "2024-02-02T15:50:54.548613Z"
    }
   },
   "outputs": [
    {
     "name": "stderr",
     "output_type": "stream",
     "text": [
      "100%|██████████| 71027/71027 [00:01<00:00, 40574.39it/s]\n"
     ]
    }
   ],
   "source": [
    "from tqdm import tqdm\n",
    "class_counts = [0] * K\n",
    "sequence_lengths = []\n",
    "\n",
    "for text, label, _ in tqdm(full_dataset):\n",
    "    class_counts[label] += 1\n",
    "#     num_tokens = len(tokenizer(text)['input_ids'])\n",
    "    num_tokens = len(text.split(' '))\n",
    "    sequence_lengths.append(num_tokens)"
   ]
  },
  {
   "cell_type": "code",
   "execution_count": 10,
   "metadata": {
    "execution": {
     "iopub.execute_input": "2024-02-02T15:51:00.851271Z",
     "iopub.status.busy": "2024-02-02T15:51:00.850736Z",
     "iopub.status.idle": "2024-02-02T15:51:03.125861Z",
     "shell.execute_reply": "2024-02-02T15:51:03.124973Z",
     "shell.execute_reply.started": "2024-02-02T15:51:00.851225Z"
    }
   },
   "outputs": [
    {
     "data": {
      "image/png": "[encoded data removed]",
      "text/plain": [
       "<Figure size 640x480 with 1 Axes>"
      ]
     },
     "metadata": {},
     "output_type": "display_data"
    },
    {
     "data": {
      "image/png": "[encoded data removed]",
      "text/plain": [
       "<Figure size 1600x500 with 1 Axes>"
      ]
     },
     "metadata": {},
     "output_type": "display_data"
    },
    {
     "data": {
      "text/plain": [
       "829.0"
      ]
     },
     "execution_count": 10,
     "metadata": {},
     "output_type": "execute_result"
    }
   ],
   "source": [
    "# Visualize class imbalance\n",
    "plt.bar(range(K), class_counts, tick_label=range(K))\n",
    "plt.xlabel('Class Index')\n",
    "plt.ylabel('Number of Samples')\n",
    "plt.title('Class Imbalance in the Dataset')\n",
    "plt.show()\n",
    "\n",
    "# Calculate the threshold for the top 95%\n",
    "threshold_length = np.percentile(sequence_lengths, 95)\n",
    "\n",
    "# Filter sequence lengths\n",
    "filtered_lengths = [length for length in sequence_lengths if length <= threshold_length]\n",
    "\n",
    "# Plot the distribution of sequence lengths for the top 90%\n",
    "plt.figure(figsize=(16,5))\n",
    "plt.hist(filtered_lengths, bins=range(min(filtered_lengths), max(filtered_lengths) + 1, 1))\n",
    "plt.xlabel('Sequence Length (tokens)')\n",
    "plt.ylabel('Number of Samples')\n",
    "plt.title('Distribution of Sequence Lengths (Top 90%)')\n",
    "plt.show()\n",
    "\n",
    "threshold_length\n"
   ]
  },
  {
   "cell_type": "markdown",
   "metadata": {},
   "source": [
    "as we can see the data is pretty balanced class wise, so no special preprocessing is required, \n",
    "and by the length distribution and hardware limitations we choose `MAX_LEN = 256` to be adequite for classification."
   ]
  },
  {
   "cell_type": "markdown",
   "metadata": {},
   "source": [
    "### Data tokenization\n",
    "\n",
    "with the found parameters, here we tokenize the dataset, one can also load saved tokenized datasets via `pickele`"
   ]
  },
  {
   "cell_type": "code",
   "execution_count": 11,
   "metadata": {
    "execution": {
     "iopub.execute_input": "2024-02-02T15:51:08.828292Z",
     "iopub.status.busy": "2024-02-02T15:51:08.827912Z",
     "iopub.status.idle": "2024-02-02T16:08:47.459722Z",
     "shell.execute_reply": "2024-02-02T16:08:47.458820Z",
     "shell.execute_reply.started": "2024-02-02T15:51:08.828262Z"
    }
   },
   "outputs": [
    {
     "name": "stderr",
     "output_type": "stream",
     "text": [
      "Tokenizing data: 100%|██████████| 71027/71027 [17:06<00:00, 69.21it/s] \n",
      "Tokenizing data: 100%|██████████| 3000/3000 [00:32<00:00, 92.83it/s] \n"
     ]
    }
   ],
   "source": [
    "MAX_LEN = 256\n",
    "\n",
    "token_opts = {\n",
    "    \"return_tensors\":'pt',\n",
    "    \"truncation\": True,\n",
    "    \"padding\": \"max_length\",\n",
    "    \"max_length\": MAX_LEN\n",
    "}\n",
    "\n",
    "if TOKENIZE:\n",
    "    full_dataset.tokenize_data(tokenizer, token_opts)\n",
    "    test_dataset.tokenize_data(tokenizer, token_opts)"
   ]
  },
  {
   "cell_type": "code",
   "execution_count": 12,
   "metadata": {
    "execution": {
     "iopub.execute_input": "2024-02-02T16:09:28.370935Z",
     "iopub.status.busy": "2024-02-02T16:09:28.370016Z",
     "iopub.status.idle": "2024-02-02T16:09:41.577968Z",
     "shell.execute_reply": "2024-02-02T16:09:41.577058Z",
     "shell.execute_reply.started": "2024-02-02T16:09:28.370893Z"
    }
   },
   "outputs": [],
   "source": [
    "import pickle\n",
    "with open( \"full_dataset.p\", \"wb\" ) as f:\n",
    "    pickle.dump(full_dataset, f)\n",
    "with open( \"test_dataset.p\", \"wb\" ) as f:\n",
    "    pickle.dump(test_dataset, f)"
   ]
  },
  {
   "cell_type": "code",
   "execution_count": 51,
   "metadata": {
    "execution": {
     "iopub.execute_input": "2024-02-03T15:31:09.904918Z",
     "iopub.status.busy": "2024-02-03T15:31:09.904543Z",
     "iopub.status.idle": "2024-02-03T15:31:26.589759Z",
     "shell.execute_reply": "2024-02-03T15:31:26.588697Z",
     "shell.execute_reply.started": "2024-02-03T15:31:09.904889Z"
    }
   },
   "outputs": [],
   "source": [
    "import pickle\n",
    "\n",
    "MAX_LEN = 256\n",
    "\n",
    "token_opts = {\n",
    "    \"return_tensors\":'pt',\n",
    "    \"truncation\": True,\n",
    "    \"padding\": \"max_length\",\n",
    "    \"max_length\": MAX_LEN\n",
    "}\n",
    "\n",
    "with open( \"full_dataset.p\", \"rb\" ) as f:\n",
    "    full_dataset = pickle.load(f)\n",
    "with open( \"test_dataset.p\", \"rb\" ) as f:\n",
    "    test_dataset = pickle.load(f)"
   ]
  },
  {
   "cell_type": "markdown",
   "metadata": {},
   "source": [
    "### DataLoaders\n",
    "\n",
    "here we define a simple function `get_loader` that helps us create dataloaders suitable for each task."
   ]
  },
  {
   "cell_type": "code",
   "execution_count": 52,
   "metadata": {
    "execution": {
     "iopub.execute_input": "2024-02-03T15:31:30.707133Z",
     "iopub.status.busy": "2024-02-03T15:31:30.706770Z",
     "iopub.status.idle": "2024-02-03T15:31:31.252530Z",
     "shell.execute_reply": "2024-02-03T15:31:31.251705Z",
     "shell.execute_reply.started": "2024-02-03T15:31:30.707102Z"
    }
   },
   "outputs": [],
   "source": [
    "def get_loader(dataset, batch_size=24, shuffle=True):\n",
    "    return DataLoader(\n",
    "        dataset, batch_size=batch_size, shuffle=shuffle, num_workers=os.cpu_count(), pin_memory=False\n",
    "    )\n",
    "num_samples = len(full_dataset)\n",
    "train_size = int(0.95 * num_samples)\n",
    "val_size = num_samples - train_size\n",
    "\n",
    "# batch_size = 1 # online\n",
    "train_dataset, val_dataset = random_split(full_dataset, [train_size, val_size])\n",
    "train_loader = get_loader(train_dataset)\n",
    "test_loader  = get_loader(test_dataset)\n",
    "val_loader   = get_loader(val_dataset)"
   ]
  },
  {
   "cell_type": "markdown",
   "metadata": {},
   "source": [
    "#### Plotting results"
   ]
  },
  {
   "cell_type": "code",
   "execution_count": 53,
   "metadata": {
    "execution": {
     "iopub.execute_input": "2024-02-03T15:31:33.751042Z",
     "iopub.status.busy": "2024-02-03T15:31:33.750697Z",
     "iopub.status.idle": "2024-02-03T15:31:33.758978Z",
     "shell.execute_reply": "2024-02-03T15:31:33.757929Z",
     "shell.execute_reply.started": "2024-02-03T15:31:33.751015Z"
    }
   },
   "outputs": [],
   "source": [
    "def plot_results(metrics_by_percentage):\n",
    "    plt.figure(figsize=(12, 6))\n",
    "\n",
    "    percentages = list(metrics_by_percentage.keys())\n",
    "    num_percentages = len(percentages)\n",
    "    \n",
    "    fig, axs = plt.subplots(1, 2, figsize=(12, 6))\n",
    "\n",
    "    losses = []\n",
    "    acc = []\n",
    "    \n",
    "    for i, (percentage, metrics) in enumerate(metrics_by_percentage.items(), 1):\n",
    "        acc.append(metrics['accuracy'])\n",
    "        losses.append(metrics['loss'])\n",
    "\n",
    "    axs[0].plot(percentages, losses)\n",
    "    axs[0].set_xlabel('Percentage')\n",
    "    axs[0].set_ylabel('Loss')\n",
    "    axs[0].set_title('Training Loss Over Percentages')\n",
    "\n",
    "    axs[1].plot(percentages, acc)\n",
    "    axs[1].set_xlabel('Percentage')\n",
    "    axs[1].set_ylabel('Accuracy')\n",
    "    axs[1].set_title('Test Accuracy Over Percentages')\n",
    "\n",
    "    plt.tight_layout()\n",
    "    plt.show()\n",
    "\n",
    "# Example usage\n",
    "# plot_results(metrics_by_percentage)\n"
   ]
  },
  {
   "cell_type": "markdown",
   "metadata": {},
   "source": [
    "## Bert with Linear probing"
   ]
  },
  {
   "cell_type": "code",
   "execution_count": 14,
   "metadata": {
    "execution": {
     "iopub.execute_input": "2024-02-03T14:52:51.924557Z",
     "iopub.status.busy": "2024-02-03T14:52:51.923834Z",
     "iopub.status.idle": "2024-02-03T14:52:52.936926Z",
     "shell.execute_reply": "2024-02-03T14:52:52.935938Z",
     "shell.execute_reply.started": "2024-02-03T14:52:51.924522Z"
    }
   },
   "outputs": [
    {
     "name": "stdout",
     "output_type": "stream",
     "text": [
      "trainable params: 6.93e+05 || all params: 1.10e+08 || trainable: 0.63%\n",
      "Last hidden states:  torch.Size([1, 256, 768])\n"
     ]
    }
   ],
   "source": [
    "bert, tokenizer = get_bert(model=\"bert\")\n",
    "\n",
    "# Test\n",
    "text = \"Ali nourian save me\"\n",
    "tokens = tokenizer(text, **token_opts)\n",
    "outputs = bert(**tokens)\n",
    "last_hidden_states = outputs.last_hidden_state\n",
    "_, _, hidden_dim = last_hidden_states.shape\n",
    "\n",
    "print(\"Last hidden states: \", last_hidden_states.shape)"
   ]
  },
  {
   "cell_type": "code",
   "execution_count": 67,
   "metadata": {
    "execution": {
     "iopub.execute_input": "2024-02-02T16:58:12.293623Z",
     "iopub.status.busy": "2024-02-02T16:58:12.292621Z",
     "iopub.status.idle": "2024-02-02T16:58:12.317252Z",
     "shell.execute_reply": "2024-02-02T16:58:12.316205Z",
     "shell.execute_reply.started": "2024-02-02T16:58:12.293586Z"
    }
   },
   "outputs": [
    {
     "name": "stdout",
     "output_type": "stream",
     "text": [
      "using 2 GPUs!\n"
     ]
    },
    {
     "data": {
      "text/plain": [
       "DataParallel(\n",
       "  (module): BertLinear(\n",
       "    (bert): BertModel(\n",
       "      (embeddings): BertEmbeddings(\n",
       "        (word_embeddings): Embedding(30522, 768, padding_idx=0)\n",
       "        (position_embeddings): Embedding(512, 768)\n",
       "        (token_type_embeddings): Embedding(2, 768)\n",
       "        (LayerNorm): LayerNorm((768,), eps=1e-12, elementwise_affine=True)\n",
       "        (dropout): Dropout(p=0.1, inplace=False)\n",
       "      )\n",
       "      (encoder): BertEncoder(\n",
       "        (layer): ModuleList(\n",
       "          (0-11): 12 x BertLayer(\n",
       "            (attention): BertAttention(\n",
       "              (self): BertSelfAttention(\n",
       "                (query): Linear(in_features=768, out_features=768, bias=True)\n",
       "                (key): Linear(in_features=768, out_features=768, bias=True)\n",
       "                (value): Linear(in_features=768, out_features=768, bias=True)\n",
       "                (dropout): Dropout(p=0.1, inplace=False)\n",
       "              )\n",
       "              (output): BertSelfOutput(\n",
       "                (dense): Linear(in_features=768, out_features=768, bias=True)\n",
       "                (LayerNorm): LayerNorm((768,), eps=1e-12, elementwise_affine=True)\n",
       "                (dropout): Dropout(p=0.1, inplace=False)\n",
       "              )\n",
       "            )\n",
       "            (intermediate): BertIntermediate(\n",
       "              (dense): Linear(in_features=768, out_features=3072, bias=True)\n",
       "              (intermediate_act_fn): GELUActivation()\n",
       "            )\n",
       "            (output): BertOutput(\n",
       "              (dense): Linear(in_features=3072, out_features=768, bias=True)\n",
       "              (LayerNorm): LayerNorm((768,), eps=1e-12, elementwise_affine=True)\n",
       "              (dropout): Dropout(p=0.1, inplace=False)\n",
       "            )\n",
       "          )\n",
       "        )\n",
       "      )\n",
       "      (pooler): BertPooler(\n",
       "        (dense): Linear(in_features=768, out_features=768, bias=True)\n",
       "        (activation): Tanh()\n",
       "      )\n",
       "    )\n",
       "    (fc): Linear(in_features=768, out_features=6, bias=True)\n",
       "  )\n",
       ")"
      ]
     },
     "execution_count": 67,
     "metadata": {},
     "output_type": "execute_result"
    }
   ],
   "source": [
    "class BertLinear(nn.Module):\n",
    "    def __init__(self, bert_model, num_labels, has_pooler=False):\n",
    "        super(BertLinear, self).__init__()\n",
    "        self.bert = bert_model\n",
    "        self.fc = nn.Linear(bert_model.config.hidden_size, num_labels)\n",
    "        self.has_pooler = has_pooler\n",
    "\n",
    "    def forward(self, input_ids, attention_mask):\n",
    "        outputs = self.bert(input_ids=input_ids, attention_mask=attention_mask)\n",
    "        h = outputs.pooler_output if self.has_pooler else outputs.last_hidden_state[:, 0]\n",
    "        logits = self.fc(h)\n",
    "        return logits\n",
    "    \n",
    "bert_model = BertLinear(bert, K)\n",
    "    \n",
    "if torch.cuda.device_count() > 1:\n",
    "    print(\"using\", torch.cuda.device_count(), \"GPUs!\")\n",
    "    bert_model = nn.DataParallel(bert_model)\n",
    "    \n",
    "bert_model = bert_model.to(device)\n",
    "    \n",
    "criterion = nn.CrossEntropyLoss()\n",
    "optimizer = torch.optim.Adam(bert_model.parameters(), lr=2e-5)\n",
    "scheduler = torch.optim.lr_scheduler.StepLR(optimizer, step_size=10, gamma=0.1)\n",
    "\n",
    "bert_model"
   ]
  },
  {
   "cell_type": "code",
   "execution_count": null,
   "metadata": {},
   "outputs": [],
   "source": [
    "!mkdir linear_probe"
   ]
  },
  {
   "cell_type": "code",
   "execution_count": null,
   "metadata": {
    "execution": {
     "iopub.execute_input": "2024-02-02T17:03:10.419577Z",
     "iopub.status.busy": "2024-02-02T17:03:10.419193Z",
     "iopub.status.idle": "2024-02-02T17:03:12.790245Z",
     "shell.execute_reply": "2024-02-02T17:03:12.789190Z",
     "shell.execute_reply.started": "2024-02-02T17:03:10.419545Z"
    }
   },
   "outputs": [],
   "source": [
    "from tqdm import tqdm\n",
    "\n",
    "# Define the percentages to use\n",
    "train_percentages = [0.01, 0.05, 0.1, 0.5]\n",
    "\n",
    "num_epochs = 3 # Same as the paper\n",
    "print_every = 1\n",
    "\n",
    "bert_metrics_by_percentage = {}\n",
    "\n",
    "for train_percentage in train_percentages:\n",
    "    print(f\"\"\"\n",
    "=================================================================================================\n",
    "\n",
    "                                Training on {100 * train_percentage} % of the dataset\n",
    "    \n",
    "=================================================================================================\n",
    "\n",
    "    \"\"\")\n",
    "    \n",
    "    # Creating model\n",
    "    bert_model = BertLinear(bert, K)\n",
    "    \n",
    "    if torch.cuda.device_count() > 1:\n",
    "        print(\"using\", torch.cuda.device_count(), \"GPUs!\")\n",
    "        bert_model = nn.DataParallel(bert_model)\n",
    "\n",
    "    bert_model = bert_model.to(device)\n",
    "\n",
    "    criterion = nn.CrossEntropyLoss()\n",
    "    optimizer = torch.optim.Adam(bert_model.parameters(), lr=2e-5)\n",
    "    scheduler = torch.optim.lr_scheduler.StepLR(optimizer, step_size=10, gamma=0.1)\n",
    "\n",
    "    num_train_batches = int(len(train_loader) * train_percentage)\n",
    "    \n",
    "    metrics = {'train_loss': [], 'val_loss': [], 'train_acc': [], 'val_acc': []}\n",
    "    \n",
    "\n",
    "    # batch_size = 1 # online\n",
    "    train_size = len(train_dataset)\n",
    "    num_train_batches = int(train_size * train_percentage)\n",
    "    train_loader_percented, _ = random_split(train_dataset, [num_train_batches, train_size - num_train_batches])\n",
    "    train_loader_percented = get_loader(train_loader_percented)\n",
    "    \n",
    "    # Train the model\n",
    "    for epoch in range(num_epochs):\n",
    "        bert_model.train()\n",
    "\n",
    "        # Training\n",
    "        train_loss = 0.0\n",
    "        correct_train = 0\n",
    "        total_train = 0\n",
    "        for inputs, labels, token in tqdm(train_loader_percented, desc=f'Train - epoch {epoch + 1}/{num_epochs}'):\n",
    "            token, labels = token.to(device), labels.to(device)\n",
    "            optimizer.zero_grad()\n",
    "            outputs = bert_model(**token)\n",
    "            loss = criterion(outputs, labels)\n",
    "            \n",
    "            loss.backward()\n",
    "            optimizer.step()\n",
    "            train_loss += loss.item()\n",
    "\n",
    "            # Calculate accuracy\n",
    "            _, predicted = torch.max(outputs, 1)\n",
    "            total_train += labels.size(0)\n",
    "            correct_train += (predicted == labels).sum().item()\n",
    "            \n",
    "\n",
    "        train_acc = correct_train / total_train\n",
    "\n",
    "        # Validation\n",
    "        bert_model.eval()\n",
    "        val_loss = 0.0\n",
    "        total_val = 0\n",
    "        correct_val = 0\n",
    "        with torch.no_grad():\n",
    "            for inputs, labels, token in tqdm(val_loader, desc=f'Validation - epoch {epoch + 1}/{num_epochs}'):\n",
    "                token, labels = token.to(device), labels.to(device)\n",
    "                outputs = bert_model(**token)\n",
    "                loss = criterion(outputs, labels)\n",
    "\n",
    "                val_loss += loss.item()\n",
    "\n",
    "                # Calculate accuracy\n",
    "                _, predicted = torch.max(outputs, 1)\n",
    "                total_val += labels.size(0)\n",
    "                correct_val += (predicted == labels).sum().item()\n",
    "\n",
    "        val_acc = correct_val / total_val\n",
    "\n",
    "        metrics['train_loss'].append(train_loss / num_train_batches)\n",
    "        metrics['val_loss'].append(val_loss / len(val_loader))\n",
    "        metrics['train_acc'].append(train_acc)\n",
    "        metrics['val_acc'].append(val_acc)\n",
    "\n",
    "        scheduler.step()\n",
    "\n",
    "        if (epoch + 1) % print_every == 0:\n",
    "            print(f\"\"\"\n",
    "            Training loss: {metrics['train_loss'][-1]:.4f}, Validation loss: {metrics['val_loss'][-1]:.4f},\n",
    "            Training accuracy: {metrics['train_acc'][-1] * 100:.2f}%, Validation accuracy: {metrics['val_acc'][-1] * 100:.2f}%\n",
    "            \"\"\")\n",
    "#                 Model is too large, we won't save it\n",
    "    # Save model checkpoint\n",
    "    checkpoint = {\n",
    "        'epoch': epoch + 1,\n",
    "        'model_state_dict': bert_model.state_dict(),\n",
    "        'optimizer_state_dict': optimizer.state_dict(),\n",
    "        'scheduler_state_dict': scheduler.state_dict(),\n",
    "        'metrics': metrics,\n",
    "    }\n",
    "    torch.save(checkpoint, f'./linear_probe/model_checkpoint_{int(train_percentage * 100)}%.pth')\n",
    "    # Save metrics for the current percentage\n",
    "    bert_metrics_by_percentage[f\"{int(train_percentage * 100)}%\"] = metrics"
   ]
  },
  {
   "cell_type": "code",
   "execution_count": null,
   "metadata": {},
   "outputs": [],
   "source": [
    "import matplotlib.pyplot as plt\n",
    "\n",
    "percentages = list(bert_metrics_by_percentage.keys())\n",
    "\n",
    "fig, axs = plt.subplots(1, 2, figsize=(12, 5))\n",
    "\n",
    "# Plot training and validation loss\n",
    "axs[0].plot(percentages, [metrics['train_loss'][-1] for metrics in bert_metrics_by_percentage.values()], label='Train Loss')\n",
    "axs[0].plot(percentages, [metrics['val_loss'][-1] for metrics in bert_metrics_by_percentage.values()], label='Validation Loss')\n",
    "axs[0].set_title(\"Loss as a function of dataset percentage\")\n",
    "axs[0].set_xlabel('Percentage of the dataset')\n",
    "axs[0].set_ylabel('Loss')\n",
    "axs[0].legend()\n",
    "\n",
    "# Plot training and validation accuracy\n",
    "axs[1].plot(percentages, [metrics['train_acc'][-1] * 100 for metrics in bert_metrics_by_percentage.values()], label='Train Accuracy')\n",
    "axs[1].plot(percentages, [metrics['val_acc'][-1] * 100 for metrics in bert_metrics_by_percentage.values()], label='Validation Accuracy')\n",
    "axs[1].set_title(\"Accuracy as a function of dataset percentage\")\n",
    "axs[1].set_xlabel('Percentage of the dataset')\n",
    "axs[1].set_ylabel('Accuracy (%)')\n",
    "axs[1].legend()\n",
    "\n",
    "plt.tight_layout()\n",
    "plt.show()\n"
   ]
  },
  {
   "cell_type": "code",
   "execution_count": null,
   "metadata": {},
   "outputs": [],
   "source": [
    "percentages = [0.01, 0.05, 0.1, 0.5]\n",
    "metrics_by_percentage = {}\n",
    "for percentage in percentages:\n",
    "    # Define model\n",
    "    bert_model = BertLinear(bert, K)\n",
    "    \n",
    "    if torch.cuda.device_count() > 1:\n",
    "        print(\"using\", torch.cuda.device_count(), \"GPUs!\")\n",
    "        bert_model = nn.DataParallel(bert_model)\n",
    "\n",
    "    bert_model = bert_model.to(device)\n",
    "\n",
    "    metrics = {'loss': [], 'accuracy': []}\n",
    "\n",
    "    # Load model\n",
    "    path = f'./linear_probe/model_checkpoint_{int(percentage * 100)}%.pth'\n",
    "    checkpoint = torch.load(path)\n",
    "    bert_state_dict = checkpoint['model_state_dict']\n",
    "    bert_model.load_state_dict(bert_state_dict)\n",
    "    # Testing\n",
    "    bert_model.eval()\n",
    "    test_loss = 0.0\n",
    "    all_predicts_test = np.array([])\n",
    "    all_labels_test = np.array([])\n",
    "    with torch.no_grad():\n",
    "        for inputs, labels, token in tqdm(test_loader, desc=f'Testing'):\n",
    "            token, labels = token.to(device), labels.to(device)\n",
    "            outputs = bert_model(**token)\n",
    "            loss = criterion(outputs, labels)\n",
    "\n",
    "            test_loss += loss.item()\n",
    "\n",
    "            # Calculate accuracy\n",
    "            _, predicted = torch.max(outputs, 1)\n",
    "            all_predicts_test = np.append(all_predicts_test, predicted.detach().cpu().numpy())\n",
    "            all_labels_test = np.append(all_labels_test, labels.detach().cpu().numpy())\n",
    "\n",
    "    test_acc = (all_predicts_test == all_labels_test).sum().item() / len(all_predicts_test)\n",
    "\n",
    "    metrics['loss'].append(test_loss / len(test_loader))\n",
    "    metrics['accuracy'].append(test_acc)\n",
    "    \n",
    "    metrics_by_percentage[f\"{int(percentage * 100)}%\"] = metrics"
   ]
  },
  {
   "cell_type": "code",
   "execution_count": null,
   "metadata": {},
   "outputs": [],
   "source": [
    "plot_results(metrics_by_percentage)"
   ]
  },
  {
   "cell_type": "markdown",
   "metadata": {},
   "source": [
    "## Using adapters"
   ]
  },
  {
   "cell_type": "code",
   "execution_count": null,
   "metadata": {},
   "outputs": [],
   "source": [
    "from transformers import BertTokenizer, BertModel, DistilBertTokenizer, DistilBertModel\n",
    "# add adapters to BERT for classification task\n",
    "from adapters import AutoAdapterModel\n",
    "\n",
    "\n",
    "def print_trainable_parameters(model):\n",
    "    \"\"\"\n",
    "    Prints the number of trainable parameters in the model.\n",
    "    \"\"\"\n",
    "    trainable_params = 0\n",
    "    all_param = 0\n",
    "    for _, param in model.named_parameters():\n",
    "        all_param += param.numel()\n",
    "        if param.requires_grad:\n",
    "            trainable_params += param.numel()\n",
    "    print(\n",
    "        f\"trainable params: {trainable_params} || all params: {all_param} || trainable%: {100 * trainable_params / all_param}\"\n",
    "    )\n",
    "\n",
    "def get_bert(model=\"bert\", use_peft=False, print_params=False, peft_method=\"lora\", num_labels=None):\n",
    "    # Load pre-trained BERT\n",
    "    if num_labels == None:\n",
    "        if model == \"bert\":\n",
    "            tokenizer = BertTokenizer.from_pretrained('bert-base-uncased')\n",
    "            bert = BertModel.from_pretrained('bert-base-uncased')\n",
    "        elif model == \"distil\":\n",
    "            tokenizer = DistilBertTokenizer.from_pretrained('distilbert-base-uncased')\n",
    "            bert = DistilBertModel.from_pretrained('distilbert-base-uncased')\n",
    "        else:\n",
    "            raise ValueError(\"Invalid bert model\")\n",
    "\n",
    "        # Peft\n",
    "        if use_peft:\n",
    "            if peft_method == \"lora\":\n",
    "                from peft import LoraConfig, LoraModel\n",
    "                # Let's define the LoraConfig\n",
    "                config = LoraConfig(\n",
    "                    r=16, lora_alpha=16, lora_dropout=0.01,\n",
    "                    bias=\"all\",  task_type=\"SEQ_CLS\", #target_modules=[\"q\", \"v\"],,\n",
    "                )\n",
    "                bert = LoraModel(bert, config, \"default\")\n",
    "            elif peft_method == \"adalora\":\n",
    "                from peft import AdaLoraModel, AdaLoraConfig\n",
    "                config = AdaLoraConfig(\n",
    "                    peft_type=\"ADALORA\", task_type=\"SEQ_CLS\", r=8, lora_alpha=32,# target_modules=[\"q\", \"v\"],\n",
    "                    lora_dropout=0.01, adapter_name=\"default\",\n",
    "                )\n",
    "                bert = AdaLoraModel(bert, config, \"default\")\n",
    "            elif peft_method == \"IA3\":\n",
    "                from peft import IA3Model, IA3Config\n",
    "                config = IA3Config(\n",
    "                    peft_type=\"IA3\", task_type=\"SEQ_CLS\",\n",
    "    #                 target_modules=[\"k\", \"v\", \"w0\"], feedforward_modules=[\"w0\"],\n",
    "                )\n",
    "                bert = IA3Model(bert, config, \"default\")\n",
    "    else:\n",
    "        # load pre-trained BERT model\n",
    "        tokenizer = BertTokenizer.from_pretrained('bert-base-uncased')\n",
    "        bert = AutoAdapterModel.from_pretrained(\"bert-base-uncased\")\n",
    "        # By default, this model doesn’t have any heads yet. We add a new one in the next step\n",
    "        bert.add_classification_head(\"mrpc\", num_labels = num_labels)\n",
    "        # add a new adapter with proper config \n",
    "        bert.add_adapter(\"mrpc\", config=\"double_seq_bn\")\n",
    "        bert.set_active_adapters(\"mrpc\")\n",
    "        # Enable adapter training\n",
    "        bert.train_adapter(\"mrpc\")\n",
    "        bert.set_active_adapters(\"mrpc\")\n",
    "    if print_params:\n",
    "        print_trainable_parameters(bert)\n",
    "    \n",
    "    return bert, tokenizer"
   ]
  },
  {
   "cell_type": "code",
   "execution_count": null,
   "metadata": {},
   "outputs": [],
   "source": [
    "bert_model = get_bert(num_labels=K)\n",
    "print_trainable_parameters(bert_model)"
   ]
  },
  {
   "cell_type": "code",
   "execution_count": null,
   "metadata": {},
   "outputs": [],
   "source": [
    "if torch.cuda.device_count() > 1:\n",
    "    print(\"using\", torch.cuda.device_count(), \"GPUs!\")\n",
    "    bert_model = nn.DataParallel(bert_model)\n",
    "    \n",
    "bert_model = bert_model.to(device)\n",
    "\n",
    "criterion = nn.CrossEntropyLoss()\n",
    "optimizer = torch.optim.Adam(bert_model.parameters(), lr=1e-4) # change lr\n",
    "scheduler = torch.optim.lr_scheduler.StepLR(optimizer, step_size=10, gamma=0.1) #CosineAnnealingLR\n",
    "\n",
    "bert_model"
   ]
  },
  {
   "cell_type": "code",
   "execution_count": null,
   "metadata": {},
   "outputs": [],
   "source": [
    "from tqdm import tqdm\n",
    "import time\n",
    "# Define the percentages to use\n",
    "train_percentages = [0.01, 0.05, 0.1, 0.5]\n",
    "\n",
    "num_epochs = 3 # Same as the paper + 1 (adapters need more epoches)\n",
    "print_every = 1\n",
    "\n",
    "#bert_model = bert_model.to(device)\n",
    "bert_metrics_by_percentage = {}\n",
    "\n",
    "for train_percentage in train_percentages:\n",
    "    print(f\"\"\"\n",
    "=================================================================================================\n",
    "\n",
    "                                Training on {100 * train_percentage} % of the dataset\n",
    "    \n",
    "=================================================================================================\n",
    "\n",
    "    \"\"\")\n",
    "    \n",
    "    num_train_batches = int(len(train_loader) * train_percentage)\n",
    "    \n",
    "    metrics = {'train_loss': [], 'val_loss': [], 'train_acc': [], 'val_acc': []}\n",
    "    bert_model = get_bert(num_labels=K)\n",
    "    if torch.cuda.device_count() > 1:\n",
    "        print(\"using\", torch.cuda.device_count(), \"GPUs!\")\n",
    "        bert_model = nn.DataParallel(bert_model)\n",
    "    bert_model = bert_model.to(device)\n",
    "    \n",
    "    # Train the model\n",
    "    for epoch in range(num_epochs):\n",
    "        \n",
    "        # Freeze all parameters in BERT and only fine-tune the adapter's parameters\n",
    "        bert_model.train_adapter(\"mrpc\")\n",
    "        \n",
    "\n",
    "        # Training\n",
    "        train_loss = 0.0\n",
    "        correct_train = 0\n",
    "        total_train = 0\n",
    "        batch_idx = 0\n",
    "        for inputs, labels, token in tqdm(train_loader, desc=f'Train - epoch {epoch + 1}/{num_epochs}'):\n",
    "            start_time = time.time()\n",
    "            batch_idx += 1\n",
    "            if batch_idx >= num_train_batches:\n",
    "                break\n",
    "            encoded = tokenizer(inputs, **token_opts) if not TOKENIZE else token\n",
    "            encoded.pop('token_type_ids', None)\n",
    "            encoded, labels = encoded.to(device), labels.to(device)\n",
    "            encoded = dict([(k, v.squeeze(dim=1)) for (k, v) in encoded.items()])\n",
    "            optimizer.zero_grad()\n",
    "            outputs = bert_model(**encoded)\n",
    "            loss = criterion(outputs.logits, labels)\n",
    "            loss.backward()\n",
    "            optimizer.step()\n",
    "\n",
    "            train_loss += loss.item()\n",
    "\n",
    "            # Calculate accuracy\n",
    "            _, predicted = torch.max(outputs.logits, 1)\n",
    "            total_train += labels.size(0)\n",
    "            correct_train += (predicted == labels).sum().item()\n",
    "\n",
    "        train_acc = correct_train / total_train\n",
    "\n",
    "        # Validation\n",
    "        bert_model.eval()\n",
    "        val_loss = 0.0\n",
    "        total_val = 0\n",
    "        correct_val = 0\n",
    "        with torch.no_grad():\n",
    "            for inputs, labels, token in tqdm(val_loader, desc=f'Validation - epoch {epoch + 1}/{num_epochs}'):\n",
    "                encoded = tokenizer(inputs, **token_opts) if not TOKENIZE else token\n",
    "                encoded.pop('token_type_ids')\n",
    "                encoded, labels = encoded.to(device), labels.to(device)\n",
    "                encoded = dict([(k, v.squeeze(dim=1)) for (k, v) in encoded.items()])\n",
    "                outputs = bert_model(**encoded)\n",
    "                loss = criterion(outputs.logits, labels)\n",
    "\n",
    "                val_loss += loss.item()\n",
    "\n",
    "                # Calculate accuracy\n",
    "                _, predicted = torch.max(outputs.logits, 1)\n",
    "                total_val += labels.size(0)\n",
    "                correct_val += (predicted == labels).sum().item()\n",
    "\n",
    "        val_acc = correct_val / total_val\n",
    "\n",
    "        metrics['train_loss'].append(train_loss / num_train_batches)\n",
    "        metrics['val_loss'].append(val_loss / len(val_loader))\n",
    "        metrics['train_acc'].append(train_acc)\n",
    "        metrics['val_acc'].append(val_acc)\n",
    "\n",
    "        scheduler.step()\n",
    "\n",
    "        if (epoch + 1) % print_every == 0:\n",
    "            print(f\"\"\"\n",
    "            Training loss: {metrics['train_loss'][-1]:.4f}, Validation loss: {metrics['val_loss'][-1]:.4f},\n",
    "            Training accuracy: {metrics['train_acc'][-1] * 100:.2f}%, Validation accuracy: {metrics['val_acc'][-1] * 100:.2f}%\n",
    "            \"\"\")\n",
    "    path = f'./bert_model_adapters_checkpoint_{int(train_percentage * 100)}%.pth'\n",
    "    #bert_model.save_adapter(path, \"mrpc\", with_head=True)\n",
    "    #with open(path, 'wb') as handle:\n",
    "     #   pickle.dump(bert_model, handle, protocol=pickle.HIGHEST_PROTOCOL)\n",
    "    # Save model checkpoint\n",
    "    checkpoint = {\n",
    "         'epoch': epoch + 1,\n",
    "         'model_state_dict': bert_model.state_dict(),\n",
    "         'optimizer_state_dict': optimizer.state_dict(),\n",
    "         'scheduler_state_dict': scheduler.state_dict(),\n",
    "         'metrics': metrics,\n",
    "    }\n",
    "    torch.save(checkpoint, path)\n",
    "    \n",
    "        \n",
    "    # Save metrics for the current percentage\n",
    "    bert_metrics_by_percentage[f\"{int(train_percentage * 100)}%\"] = metrics"
   ]
  },
  {
   "cell_type": "code",
   "execution_count": null,
   "metadata": {},
   "outputs": [],
   "source": [
    "import matplotlib.pyplot as plt\n",
    "\n",
    "percentages = list(bert_metrics_by_percentage.keys())\n",
    "\n",
    "def plot_results(metrics_by_percentage):\n",
    "    plt.figure(figsize=(12, 6))\n",
    "\n",
    "    percentages = list(metrics_by_percentage.keys())\n",
    "    num_percentages = len(percentages)\n",
    "    \n",
    "    fig, axs = plt.subplots(1, 2, figsize=(12, 6))\n",
    "\n",
    "    losses = []\n",
    "    acc = []\n",
    "    \n",
    "    for i, (percentage, metrics) in enumerate(metrics_by_percentage.items(), 1):\n",
    "        acc.append(metrics['accuracy'])\n",
    "        losses.append(metrics['loss'])\n",
    "\n",
    "    axs[0].plot(percentages, losses)\n",
    "    axs[0].set_xlabel('Percentage')\n",
    "    axs[0].set_ylabel('Loss')\n",
    "    axs[0].set_title('Training Loss Over Percentages')\n",
    "\n",
    "    axs[1].plot(percentages, acc)\n",
    "    axs[1].set_xlabel('Percentage')\n",
    "    axs[1].set_ylabel('Accuracy')\n",
    "    axs[1].set_title('Test Accuracy Over Percentages')\n",
    "\n",
    "    plt.tight_layout()\n",
    "    plt.show()\n",
    "\n",
    "\n",
    "\n",
    "fig, axs = plt.subplots(1, 2, figsize=(12, 5))\n",
    "\n",
    "# Plot training and validation loss\n",
    "axs[0].plot(percentages, [metrics['train_loss'][-1] for metrics in bert_metrics_by_percentage.values()], label='Train Loss')\n",
    "axs[0].plot(percentages, [metrics['val_loss'][-1] for metrics in bert_metrics_by_percentage.values()], label='Validation Loss')\n",
    "axs[0].set_title(\"Loss as a function of dataset percentage\")\n",
    "axs[0].set_xlabel('Percentage of the dataset')\n",
    "axs[0].set_ylabel('Loss')\n",
    "axs[0].legend()\n",
    "\n",
    "# Plot training and validation accuracy\n",
    "axs[1].plot(percentages, [metrics['train_acc'][-1] * 100 for metrics in bert_metrics_by_percentage.values()], label='Train Accuracy')\n",
    "axs[1].plot(percentages, [metrics['val_acc'][-1] * 100 for metrics in bert_metrics_by_percentage.values()], label='Validation Accuracy')\n",
    "axs[1].set_title(\"Accuracy as a function of dataset percentage\")\n",
    "axs[1].set_xlabel('Percentage of the dataset')\n",
    "axs[1].set_ylabel('Accuracy (%)')\n",
    "axs[1].legend()\n",
    "\n",
    "plt.tight_layout()\n",
    "plt.show()\n"
   ]
  },
  {
   "cell_type": "code",
   "execution_count": null,
   "metadata": {},
   "outputs": [],
   "source": [
    "percentages = [0.01, 0.05, 0.1, 0.5]\n",
    "metrics_by_percentage = {}\n",
    "for percentage in percentages:\n",
    "    # Define model\n",
    "    # Load model\n",
    "    path = f'./bert_model_adapters_checkpoint_{int(percentage * 100)}%.pth'\n",
    "    checkpoint = torch.load(path)\n",
    "    bert_state_dict = checkpoint['model_state_dict']\n",
    "    bert_model.load_state_dict(bert_state_dict)\n",
    "    \n",
    "    if torch.cuda.device_count() > 1:\n",
    "        print(\"using\", torch.cuda.device_count(), \"GPUs!\")\n",
    "        bert_model = nn.DataParallel(bert_model)\n",
    "\n",
    "    bert_model = bert_model.to(device)\n",
    "\n",
    "    metrics = {'loss': [], 'accuracy': []}\n",
    "\n",
    "    # Testing\n",
    "    bert_model.eval()\n",
    "    test_loss = 0.0\n",
    "    all_predicts_test = np.array([])\n",
    "    all_labels_test = np.array([])\n",
    "    with torch.no_grad():\n",
    "        for inputs, labels, token in tqdm(test_loader, desc=f'Testing'):\n",
    "            token, labels = token.to(device), labels.to(device)\n",
    "            outputs = bert_model(**token)\n",
    "            loss = criterion(outputs.logits, labels)\n",
    "\n",
    "            test_loss += loss.item()\n",
    "\n",
    "            # Calculate accuracy\n",
    "            _, predicted = torch.max(outputs.logits, 1)\n",
    "            all_predicts_test = np.append(all_predicts_test, predicted.detach().cpu().numpy())\n",
    "            all_labels_test = np.append(all_labels_test, labels.detach().cpu().numpy())\n",
    "\n",
    "    test_acc = (all_predicts_test == all_labels_test).sum().item() / len(all_predicts_test)\n",
    "\n",
    "    metrics['loss'].append(test_loss / len(test_loader))\n",
    "    metrics['accuracy'].append(test_acc)\n",
    "    \n",
    "    metrics_by_percentage[f\"{int(percentage * 100)}%\"] = metrics\n",
    "plot_results(metrics_by_percentage)"
   ]
  },
  {
   "cell_type": "markdown",
   "metadata": {},
   "source": [
    "## BertGan Implementation\n",
    "\n",
    "in this section we implement the `BertGan` architechture that tries to learn the task adversially, including a generator model that helps our typical discriminator model in classification, in a `GAN` fashion."
   ]
  },
  {
   "cell_type": "markdown",
   "metadata": {},
   "source": [
    "## G1 generator"
   ]
  },
  {
   "cell_type": "markdown",
   "metadata": {},
   "source": [
    "### FF_Generator Class\n",
    "\n",
    "this class implements the `G1` model specified in the paper, this is a simple `MLP` model, that tries to imitate the manifolds generated by the real data."
   ]
  },
  {
   "cell_type": "code",
   "execution_count": 54,
   "metadata": {
    "execution": {
     "iopub.execute_input": "2024-02-03T15:32:24.630651Z",
     "iopub.status.busy": "2024-02-03T15:32:24.629686Z",
     "iopub.status.idle": "2024-02-03T15:32:24.643722Z",
     "shell.execute_reply": "2024-02-03T15:32:24.642766Z",
     "shell.execute_reply.started": "2024-02-03T15:32:24.630615Z"
    }
   },
   "outputs": [
    {
     "name": "stdout",
     "output_type": "stream",
     "text": [
      "torch.Size([5, 768])\n"
     ]
    }
   ],
   "source": [
    "class FF_Generator(nn.Module):\n",
    "    def __init__(self, in_features, hidden_dim=256, out_features=768, dropout_prob=0.15):\n",
    "        super(FF_Generator, self).__init__()\n",
    "        # Parameters\n",
    "        self.latent_size = in_features\n",
    "        self.hidden_size = hidden_dim\n",
    "        self.out_features = out_features\n",
    "        # Layers\n",
    "        self.hidden = nn.Linear(in_features=in_features, out_features=hidden_dim)\n",
    "        self.act = nn.LeakyReLU(negative_slope=0.2)\n",
    "        self.dropout = nn.Dropout(p=dropout_prob)\n",
    "        self.head = nn.Linear(in_features=hidden_dim, out_features=out_features)\n",
    "        \n",
    "    def forward(self, x):\n",
    "        # hidden layer\n",
    "        h = self.act(self.hidden(x))\n",
    "        h = self.dropout(h)\n",
    "        # output layer\n",
    "        y = self.head(h)\n",
    "        \n",
    "        return y\n",
    "\n",
    "# Testing\n",
    "latent_size = 100\n",
    "generator = FF_Generator(in_features=latent_size)\n",
    "\n",
    "num_samples = 5\n",
    "random_latents = torch.randn((num_samples, latent_size))\n",
    "\n",
    "generated_samples = generator(random_latents)\n",
    "\n",
    "print(generated_samples.shape)"
   ]
  },
  {
   "cell_type": "markdown",
   "metadata": {},
   "source": [
    "### Discriminator class\n",
    "\n",
    "this class is a simple Feed-Forward architechture for our discriminator, which does the classification task on the given data generated by either the generator or the bert model processing real data, trying to classify the data in a supervised way, while learning the representations adversially in an unsupervised manner."
   ]
  },
  {
   "cell_type": "code",
   "execution_count": 55,
   "metadata": {
    "execution": {
     "iopub.execute_input": "2024-02-03T15:32:26.843948Z",
     "iopub.status.busy": "2024-02-03T15:32:26.843568Z",
     "iopub.status.idle": "2024-02-03T15:32:26.865373Z",
     "shell.execute_reply": "2024-02-03T15:32:26.864495Z",
     "shell.execute_reply.started": "2024-02-03T15:32:26.843916Z"
    }
   },
   "outputs": [
    {
     "name": "stdout",
     "output_type": "stream",
     "text": [
      "Probs: torch.Size([5, 7])\n",
      "Logits: torch.Size([5, 7])\n",
      "Hidden States: torch.Size([5, 128])\n"
     ]
    }
   ],
   "source": [
    "class Discriminator(nn.Module):\n",
    "    def __init__(self, k, in_features, hidden_dims=[512, 256, 128], dropout_prob=0.15):\n",
    "        super(Discriminator, self).__init__()\n",
    "        # Parameters\n",
    "        self.k = k\n",
    "        self.in_feature_size = in_features\n",
    "\n",
    "        # Define the discriminator layers based on hidden_dims\n",
    "        layers = []\n",
    "        layers.append(nn.Dropout(p=dropout_prob))\n",
    "        for i in range(len(hidden_dims)):\n",
    "            layers.extend([\n",
    "                nn.Linear(in_features=in_features if i == 0 else hidden_dims[i-1], out_features=hidden_dims[i]),\n",
    "                nn.LeakyReLU(negative_slope=0.2),\n",
    "                nn.Dropout(p=dropout_prob)\n",
    "            ])\n",
    "\n",
    "        # Sequential discriminator layers\n",
    "        self.discriminator = nn.Sequential(*layers)\n",
    "\n",
    "        # Head layer\n",
    "        self.head = nn.Linear(in_features=hidden_dims[-1], out_features=k + 1)\n",
    "        self.softmax = nn.Softmax(dim=-1)\n",
    "\n",
    "    def forward(self, x, return_logits=True):\n",
    "        # Forward pass through the sequential layers\n",
    "        h = self.discriminator(x)\n",
    "        # Output layer\n",
    "        logits = self.head(h)\n",
    "        # Softmax\n",
    "        probs = self.softmax(logits)\n",
    "\n",
    "        if return_logits:\n",
    "            return probs, logits, h\n",
    "        return probs, h\n",
    "\n",
    "# Testing\n",
    "k_value = K\n",
    "in_features = generator.out_features\n",
    "discriminator = Discriminator(k=k_value, in_features=in_features)\n",
    "\n",
    "batch_size = 5\n",
    "input_data = torch.randn((batch_size, in_features))\n",
    "\n",
    "probs, logits, hidden_states = discriminator(input_data)\n",
    "\n",
    "print(\"Probs:\", probs.shape)\n",
    "print(\"Logits:\", logits.shape)\n",
    "print(\"Hidden States:\", hidden_states.shape)"
   ]
  },
  {
   "cell_type": "markdown",
   "metadata": {},
   "source": [
    "### BertGan implementation\n",
    "\n",
    "this model is just combining the `generator` and `discriminator` along with the `bert` model, and helps us in training the bertGan, as it computes the neccesary losses, and performing the forward pass alongside adverserial generation."
   ]
  },
  {
   "cell_type": "code",
   "execution_count": 56,
   "metadata": {
    "execution": {
     "iopub.execute_input": "2024-02-03T15:32:30.267977Z",
     "iopub.status.busy": "2024-02-03T15:32:30.267639Z",
     "iopub.status.idle": "2024-02-03T15:32:30.283748Z",
     "shell.execute_reply": "2024-02-03T15:32:30.282756Z",
     "shell.execute_reply.started": "2024-02-03T15:32:30.267954Z"
    }
   },
   "outputs": [],
   "source": [
    "import torch\n",
    "import torch.nn as nn\n",
    "import torch.nn.functional as F\n",
    "\n",
    "class BertGan(nn.Module):\n",
    "    def __init__(self, Generator, Discriminator, Bert, fast_gen_grad=False, has_pooler=False, no_grad_bert=False):\n",
    "        super(BertGan, self).__init__()\n",
    "        \n",
    "        self.generator = Generator\n",
    "        self.discriminator = Discriminator\n",
    "        self.bert = Bert\n",
    "        \n",
    "        self.k = self.discriminator.k\n",
    "        self.epsilon = 1e-8\n",
    "        \n",
    "        self.gen_log_grad = fast_gen_grad\n",
    "        \n",
    "        self.has_pooler = has_pooler\n",
    "        self.no_grad_bert = no_grad_bert\n",
    "\n",
    "    def forward(self, inputs, z=None, labels=None, label_mask=None):\n",
    "        # Bert real data forward pass\n",
    "        bert_outputs = self.bert(**inputs) \n",
    "        x_r = bert_outputs.pooler_output if self.has_pooler else bert_outputs.last_hidden_state[:, 0]\n",
    "        if self.no_grad_bert:\n",
    "            x_r = x_r.detach()\n",
    "            \n",
    "        # Discriminator forward pass on real data\n",
    "        D_real_prob, D_real_logits, D_real_features = self.discriminator(x_r)\n",
    "        \n",
    "        # Supervised loss\n",
    "        real_logits = D_real_logits[:, :-1]\n",
    "        real_prob   = F.softmax(real_logits, dim=-1)\n",
    "        d_loss_sup = 0\n",
    "        if labels is not None:\n",
    "            if label_mask is None:\n",
    "                label_mask = torch.ones_like(labels)\n",
    "            ce = F.cross_entropy(real_logits, labels, reduction='none')\n",
    "            masked_ce = ce * label_mask\n",
    "            d_loss_sup = masked_ce.sum() / max(label_mask.sum(), 1) \n",
    "        \n",
    "        # Inference mode\n",
    "        if z is None:\n",
    "            # If latent (z) is None, skip the generator and set g_loss to None\n",
    "            d_loss = -torch.mean(\n",
    "                torch.log(1 - D_real_prob[:, -1] + self.epsilon)\n",
    "            ) + d_loss_sup\n",
    "            return {\n",
    "                'probs': real_prob,\n",
    "                'logits': real_logits,\n",
    "                'd_loss': d_loss,\n",
    "                'g_loss': None,\n",
    "            }\n",
    "\n",
    "        # Generator forward pass\n",
    "        x_g = self.generator(z)\n",
    "\n",
    "        # Discriminator forward pass on fake data\n",
    "        D_fake_prob, D_fake_logits, D_fake_features = self.discriminator(x_g)\n",
    "\n",
    "        # Discriminator loss\n",
    "        # Unsupervised loss\n",
    "        d_loss_unsup = -torch.mean(\n",
    "            torch.log(1 - D_real_prob[:, -1] + self.epsilon)\n",
    "        ) - torch.mean(\n",
    "            torch.log(D_fake_prob[:, -1] + self.epsilon)\n",
    "        )\n",
    "\n",
    "        d_loss = d_loss_unsup + d_loss_sup\n",
    "\n",
    "        # Generator loss\n",
    "        g_loss_unsup = -torch.mean(\n",
    "            torch.log(1 - D_fake_prob[:, -1] + self.epsilon) \n",
    "            if not self.gen_log_grad else\n",
    "            - torch.log(D_fake_prob[:, -1] + self.epsilon)\n",
    "        )\n",
    "        g_loss_feature_match = torch.mean(\n",
    "            (torch.mean(D_real_features, dim=0) - torch.mean(D_fake_features, dim=0)) ** 2\n",
    "        )\n",
    "\n",
    "        g_loss = g_loss_unsup + g_loss_feature_match\n",
    "        \n",
    "        output = {\n",
    "            'probs': real_prob,\n",
    "            'logits': real_logits,\n",
    "            'd_loss': d_loss,\n",
    "            'g_loss': g_loss,\n",
    "        }\n",
    "\n",
    "        return output"
   ]
  },
  {
   "cell_type": "markdown",
   "metadata": {},
   "source": [
    "## Adverserial training\n",
    "\n",
    "the adverserial training step is defined as follows:\n",
    "\n",
    "$$\\quad L_{\\mathcal{D}}=L_{\\mathcal{D}_{\\text {sup. }}}+L_{\\mathcal{D}_{\\text {unsup. }}}$$\n",
    "$$\n",
    "\\begin{gather*}\n",
    "L_{\\mathcal{D}_{\\text {sup. }}}  =-\\mathbb{E}_{x, y \\sim p_d} \\log \\left[p_{\\mathrm{m}}(\\hat{y}=y \\mid x, y \\in(1, \\ldots, k))\\right] \\\\\n",
    "L_{\\mathcal{D}_{\\text {unsup. }}}  =-\\mathbb{E}_{x \\sim p_d} \\log \\left[1-p_{\\mathrm{m}}(\\hat{y}=y \\mid x, y=k+1)\\right] -\\mathbb{E}_{x \\sim \\mathcal{G}} \\log \\left[p_{\\mathrm{m}}(\\hat{y}=y \\mid x, y=k+1)\\right] \\\\\n",
    "\\rightarrow  L_{\\mathcal{D}_{\\text {unsup. }}}  =-\\mathbb{E}_{x \\sim p_d} [\\log (\\mathcal{D}(x))] -\\mathbb{E}_{x \\sim \\mathcal{G}} \n",
    "[\\log (1-\\mathcal{D}(x))]\n",
    "\\end{gather*}\n",
    "$$\n",
    "\n",
    "$$L_{\\mathcal{G}_{\\text {unsup. }}}=-\\mathbb{E}_{x \\sim \\mathcal{G}} \n",
    "\\log \\left[1-p_m(\\hat{y}=y \\mid x, y=k+1)\\right]$$\n",
    "$$ \n",
    "L_{\\mathcal{G}_{\\text {feature matching }}} = \\frac{1}{\\text{hidden\\_dim}}||\\mathbb{E}_{x \\sim p_d} f(x) \n",
    "- \\mathbb{E}_{x \\sim \\mathcal{G}} f(x) ||_2^2\n",
    "$$"
   ]
  },
  {
   "cell_type": "markdown",
   "metadata": {},
   "source": [
    "this block simply tests the defined bertGan model."
   ]
  },
  {
   "cell_type": "code",
   "execution_count": 57,
   "metadata": {
    "execution": {
     "iopub.execute_input": "2024-02-03T15:32:33.165404Z",
     "iopub.status.busy": "2024-02-03T15:32:33.164738Z",
     "iopub.status.idle": "2024-02-03T15:32:50.473409Z",
     "shell.execute_reply": "2024-02-03T15:32:50.472511Z",
     "shell.execute_reply.started": "2024-02-03T15:32:33.165371Z"
    }
   },
   "outputs": [
    {
     "name": "stdout",
     "output_type": "stream",
     "text": [
      "Training:\n",
      "\n",
      "Discriminator Loss: 3.8696823120117188\n",
      "Generator Loss: 0.1505683958530426\n",
      "Logits: torch.Size([5, 6])\n",
      "Probabilities: torch.Size([5, 6])\n",
      "\n",
      "Inference:\n",
      "\n",
      "Discriminator Loss: 0.15020646154880524\n",
      "Generator Loss: None\n",
      "Logits: torch.Size([5, 6])\n",
      "Probabilities: torch.Size([5, 6])\n"
     ]
    }
   ],
   "source": [
    "# Test\n",
    "bert, tokenizer = get_bert()\n",
    "bert_gan = BertGan(Generator=generator, Discriminator=discriminator, Bert=bert)\n",
    "\n",
    "batch_size = 5\n",
    "latent_batch_size = 10\n",
    "random_latents = torch.randn((latent_batch_size, latent_size))\n",
    "random_inputs = tokenizer(\n",
    "    [\"ali nourian save me\"] * batch_size, return_tensors='pt', truncation=True, padding=\"max_length\"\n",
    ")\n",
    "random_labels = torch.randint(0, discriminator.k, (batch_size,))\n",
    "random_mask   = torch.randint(0, 2, (batch_size,))\n",
    "\n",
    "# Train\n",
    "output = bert_gan(random_inputs, random_latents, random_labels, random_mask)\n",
    "# Inference\n",
    "output_inf = bert_gan(random_inputs)\n",
    "\n",
    "print(\"Training:\\n\")\n",
    "print(\"Discriminator Loss:\", output['d_loss'].item())\n",
    "print(\"Generator Loss:\", output['g_loss'].item())\n",
    "print(\"Logits:\", output['logits'].shape)\n",
    "print(\"Probabilities:\", output['probs'].shape)\n",
    "print(\"\\nInference:\\n\")\n",
    "print(\"Discriminator Loss:\", output_inf['d_loss'].item())\n",
    "print(\"Generator Loss:\", output_inf['g_loss'])\n",
    "print(\"Logits:\", output_inf['logits'].shape)\n",
    "print(\"Probabilities:\", output_inf['probs'].shape)\n",
    "\n",
    "# Testing good grads\n",
    "output['g_loss'].backward(retain_graph=True)\n",
    "output['d_loss'].backward()"
   ]
  },
  {
   "cell_type": "markdown",
   "metadata": {},
   "source": [
    "### model implementation"
   ]
  },
  {
   "cell_type": "markdown",
   "metadata": {},
   "source": [
    "in this part we simply visualize what the model looks like."
   ]
  },
  {
   "cell_type": "code",
   "execution_count": 58,
   "metadata": {
    "execution": {
     "iopub.execute_input": "2024-02-03T15:32:59.413108Z",
     "iopub.status.busy": "2024-02-03T15:32:59.412268Z",
     "iopub.status.idle": "2024-02-03T15:33:00.023674Z",
     "shell.execute_reply": "2024-02-03T15:33:00.022811Z",
     "shell.execute_reply.started": "2024-02-03T15:32:59.413074Z"
    }
   },
   "outputs": [
    {
     "name": "stdout",
     "output_type": "stream",
     "text": [
      "using 2 GPUs!\n"
     ]
    },
    {
     "data": {
      "text/plain": [
       "BertGan(\n",
       "  (generator): DataParallel(\n",
       "    (module): FF_Generator(\n",
       "      (hidden): Linear(in_features=100, out_features=768, bias=True)\n",
       "      (act): LeakyReLU(negative_slope=0.2)\n",
       "      (dropout): Dropout(p=0.15, inplace=False)\n",
       "      (head): Linear(in_features=768, out_features=768, bias=True)\n",
       "    )\n",
       "  )\n",
       "  (discriminator): DataParallel(\n",
       "    (module): Discriminator(\n",
       "      (discriminator): Sequential(\n",
       "        (0): Dropout(p=0.15, inplace=False)\n",
       "        (1): Linear(in_features=768, out_features=512, bias=True)\n",
       "        (2): LeakyReLU(negative_slope=0.2)\n",
       "        (3): Dropout(p=0.15, inplace=False)\n",
       "        (4): Linear(in_features=512, out_features=256, bias=True)\n",
       "        (5): LeakyReLU(negative_slope=0.2)\n",
       "        (6): Dropout(p=0.15, inplace=False)\n",
       "        (7): Linear(in_features=256, out_features=128, bias=True)\n",
       "        (8): LeakyReLU(negative_slope=0.2)\n",
       "        (9): Dropout(p=0.15, inplace=False)\n",
       "      )\n",
       "      (head): Linear(in_features=128, out_features=7, bias=True)\n",
       "      (softmax): Softmax(dim=-1)\n",
       "    )\n",
       "  )\n",
       "  (bert): DataParallel(\n",
       "    (module): BertModel(\n",
       "      (embeddings): BertEmbeddings(\n",
       "        (word_embeddings): Embedding(30522, 768, padding_idx=0)\n",
       "        (position_embeddings): Embedding(512, 768)\n",
       "        (token_type_embeddings): Embedding(2, 768)\n",
       "        (LayerNorm): LayerNorm((768,), eps=1e-12, elementwise_affine=True)\n",
       "        (dropout): Dropout(p=0.1, inplace=False)\n",
       "      )\n",
       "      (encoder): BertEncoder(\n",
       "        (layer): ModuleList(\n",
       "          (0-11): 12 x BertLayer(\n",
       "            (attention): BertAttention(\n",
       "              (self): BertSelfAttention(\n",
       "                (query): Linear(in_features=768, out_features=768, bias=True)\n",
       "                (key): Linear(in_features=768, out_features=768, bias=True)\n",
       "                (value): Linear(in_features=768, out_features=768, bias=True)\n",
       "                (dropout): Dropout(p=0.1, inplace=False)\n",
       "              )\n",
       "              (output): BertSelfOutput(\n",
       "                (dense): Linear(in_features=768, out_features=768, bias=True)\n",
       "                (LayerNorm): LayerNorm((768,), eps=1e-12, elementwise_affine=True)\n",
       "                (dropout): Dropout(p=0.1, inplace=False)\n",
       "              )\n",
       "            )\n",
       "            (intermediate): BertIntermediate(\n",
       "              (dense): Linear(in_features=768, out_features=3072, bias=True)\n",
       "              (intermediate_act_fn): GELUActivation()\n",
       "            )\n",
       "            (output): BertOutput(\n",
       "              (dense): Linear(in_features=3072, out_features=768, bias=True)\n",
       "              (LayerNorm): LayerNorm((768,), eps=1e-12, elementwise_affine=True)\n",
       "              (dropout): Dropout(p=0.1, inplace=False)\n",
       "            )\n",
       "          )\n",
       "        )\n",
       "      )\n",
       "      (pooler): BertPooler(\n",
       "        (dense): Linear(in_features=768, out_features=768, bias=True)\n",
       "        (activation): Tanh()\n",
       "      )\n",
       "    )\n",
       "  )\n",
       ")"
      ]
     },
     "execution_count": 58,
     "metadata": {},
     "output_type": "execute_result"
    }
   ],
   "source": [
    "latent_size = 100\n",
    "\n",
    "tokenizer = BertTokenizer.from_pretrained('bert-base-uncased')\n",
    "bert = BertModel.from_pretrained('bert-base-uncased')\n",
    "\n",
    "generator = FF_Generator(\n",
    "    in_features=latent_size, hidden_dim=hidden_dim, out_features=hidden_dim\n",
    ")\n",
    "discriminator = Discriminator(\n",
    "    k=K, in_features=hidden_dim\n",
    ")\n",
    "bertGan = BertGan(\n",
    "    generator, discriminator, bert, fast_gen_grad=True\n",
    ")\n",
    "\n",
    "#models parameters\n",
    "bert_vars = [i for i in bertGan.bert.parameters()]\n",
    "d_vars = bert_vars + [v for v in bertGan.discriminator.parameters()]\n",
    "g_vars = bertGan.generator.parameters()\n",
    "\n",
    "#optimizer\n",
    "d_lr = 5e-4\n",
    "g_lr = 5e-4\n",
    "n_critic = 5\n",
    "dis_optimizer = optim.AdamW(d_vars, lr=d_lr)\n",
    "gen_optimizer = optim.AdamW(g_vars, lr=g_lr) \n",
    "\n",
    "if torch.cuda.device_count() > 1: # Since we are using different ootimizers\n",
    "    print(\"using\", torch.cuda.device_count(), \"GPUs!\")\n",
    "    bertGan.bert = nn.DataParallel(bertGan.bert)\n",
    "    bertGan.discriminator = nn.DataParallel(bertGan.discriminator)\n",
    "    bertGan.generator = nn.DataParallel(bertGan.generator)\n",
    "    \n",
    "bertGan = bertGan.to(device)\n",
    "\n",
    "bertGan"
   ]
  },
  {
   "cell_type": "markdown",
   "metadata": {},
   "source": [
    "### BertGan training\n",
    "\n",
    "this function implement the training procedure of the BertGan model"
   ]
  },
  {
   "cell_type": "code",
   "execution_count": 59,
   "metadata": {
    "execution": {
     "iopub.execute_input": "2024-02-03T15:33:04.121438Z",
     "iopub.status.busy": "2024-02-03T15:33:04.120671Z",
     "iopub.status.idle": "2024-02-03T15:33:04.143828Z",
     "shell.execute_reply": "2024-02-03T15:33:04.142781Z",
     "shell.execute_reply.started": "2024-02-03T15:33:04.121404Z"
    }
   },
   "outputs": [],
   "source": [
    "from torch.nn.utils import clip_grad_norm_\n",
    "from tqdm import tqdm\n",
    "import time\n",
    "\n",
    "def train_bertgan(\n",
    "    bertgan, \n",
    "    dis_optimizer, gen_optimizer, bert_optimizer,\n",
    "    masked_train_loader, val_loader, \n",
    "    dis_scheduler=None, gen_scheduler=None, bert_scheduler=None,\n",
    "    num_epochs=3, print_every=1, c=1, n_critic=5, latent_dim=100, spherical=True):\n",
    "\n",
    "    metrics = {'train_loss': [], 'val_loss': [], 'train_acc': [], 'val_acc': []}\n",
    "    \n",
    "    for epoch in range(num_epochs):\n",
    "        bertgan.train()\n",
    "\n",
    "        if gen_scheduler is not None:\n",
    "            gen_scheduler.step()\n",
    "        if dis_scheduler is not None:\n",
    "            dis_scheduler.step()\n",
    "        if bert_scheduler is not None:\n",
    "            bert_scheduler.step()\n",
    "            print(f\"Current bert lr: {bert_scheduler.get_last_lr()}\")\n",
    "        \n",
    "        # Training\n",
    "        train_loss = 0.0\n",
    "        batch_idx = 0\n",
    "        all_predicts_train = np.array([])\n",
    "        all_labels_train = np.array([])\n",
    "        \n",
    "        for inputs, labels, mask, token in tqdm(masked_train_loader, desc=f'Train - epoch {epoch + 1}/{num_epochs}'):\n",
    "            batch_idx += 1\n",
    "            token, labels, mask = token.to(device), labels.to(device), mask.to(device)\n",
    "            z = torch.zeros(train_loader.batch_size, latent_dim, device=device).uniform_(0, 1)\n",
    "            if spherical:\n",
    "                theta = 0\n",
    "            \n",
    "            bertGan.bert.zero_grad()\n",
    "            bertGan.discriminator.zero_grad()\n",
    "            \n",
    "            outputs = bertgan(token, z=z, labels=labels, label_mask=mask)\n",
    "            d_loss = outputs['d_loss']\n",
    "            g_loss = outputs['g_loss']\n",
    "            \n",
    "            dis_optimizer.zero_grad()\n",
    "            gen_optimizer.zero_grad()\n",
    "            \n",
    "            # retain_graph=True is required since the underlying graph will be deleted after backward\n",
    "            g_loss.backward(retain_graph=True)\n",
    "            d_loss.backward()\n",
    "            \n",
    "            # Lipchitz continious\n",
    "#             clip_grad_norm_(bertgan.discriminator.parameters(), c)\n",
    "#             clip_grad_norm_(bertgan.generator.parameters(), c)\n",
    "            if (batch_idx + 1) % n_critic == 0:\n",
    "                gen_optimizer.step() \n",
    "            dis_optimizer.step()\n",
    "            bert_optimizer.step()\n",
    "\n",
    "            train_loss += g_loss.item() + d_loss.item()\n",
    "\n",
    "            # Calculate accuracy\n",
    "            _, predicted = torch.max(outputs['probs'], 1)\n",
    "            all_predicts_train = np.append(all_predicts_train, predicted.detach().cpu().numpy())\n",
    "            all_labels_train = np.append(all_labels_train, labels.detach().cpu().numpy())\n",
    "\n",
    "        train_acc = (all_predicts_train == all_labels_train).sum().item() / len(all_predicts_train)\n",
    "\n",
    "        # Validation\n",
    "        bertgan.eval()\n",
    "        val_loss = 0.0\n",
    "        all_predicts_val = np.array([])\n",
    "        all_labels_val = np.array([])\n",
    "        with torch.no_grad():\n",
    "            for inputs, labels, _, token in tqdm(masked_val_loader, desc=f'Validation - epoch {epoch + 1}/{num_epochs}'):\n",
    "                token, labels = token.to(device), labels.to(device)\n",
    "                outputs = bertgan(token, labels=labels)\n",
    "                loss = outputs['d_loss']\n",
    "\n",
    "                val_loss += loss.item()\n",
    "\n",
    "                # Calculate accuracy\n",
    "                _, predicted = torch.max(outputs['probs'], 1)\n",
    "                all_predicts_val = np.append(all_predicts_val, predicted.detach().cpu().numpy())\n",
    "                all_labels_val = np.append(all_labels_val, labels.detach().cpu().numpy())\n",
    "\n",
    "        val_acc = (all_predicts_val == all_labels_val).sum().item() / len(all_predicts_val)\n",
    "\n",
    "        metrics['train_loss'].append(train_loss / len(train_loader))\n",
    "        metrics['val_loss'].append(val_loss / len(val_loader))\n",
    "        metrics['train_acc'].append(train_acc)\n",
    "        metrics['val_acc'].append(val_acc)\n",
    "\n",
    "        if (epoch + 1) % print_every == 0:\n",
    "            print(f\"\"\"\n",
    "            Training loss: {metrics['train_loss'][-1]:.4f}, Validation loss: {metrics['val_loss'][-1]:.4f},\n",
    "            Training accuracy: {metrics['train_acc'][-1] * 100:.2f}%, Validation accuracy: {metrics['val_acc'][-1] * 100:.2f}%\n",
    "            \"\"\")\n",
    "\n",
    "    return metrics"
   ]
  },
  {
   "cell_type": "code",
   "execution_count": 21,
   "metadata": {
    "execution": {
     "iopub.execute_input": "2024-02-03T09:36:49.271000Z",
     "iopub.status.busy": "2024-02-03T09:36:49.270669Z",
     "iopub.status.idle": "2024-02-03T09:36:50.373454Z",
     "shell.execute_reply": "2024-02-03T09:36:50.372309Z",
     "shell.execute_reply.started": "2024-02-03T09:36:49.270974Z"
    }
   },
   "outputs": [],
   "source": [
    "!mkdir bertgan_G1_with_grad"
   ]
  },
  {
   "cell_type": "code",
   "execution_count": 63,
   "metadata": {
    "execution": {
     "iopub.execute_input": "2024-02-03T15:34:30.861197Z",
     "iopub.status.busy": "2024-02-03T15:34:30.860791Z",
     "iopub.status.idle": "2024-02-03T15:34:30.868192Z",
     "shell.execute_reply": "2024-02-03T15:34:30.867195Z",
     "shell.execute_reply.started": "2024-02-03T15:34:30.861163Z"
    }
   },
   "outputs": [],
   "source": [
    "def get_masked_loader(path, percentage, full_dataset, train_size, val_size, batch_size=128):\n",
    "    masked_full_dataset = MaskedSemEvalDataset(path, mask_percentage=percentage)\n",
    "    masked_full_dataset.tokenized_data = full_dataset.tokenized_data\n",
    "    masked_full_dataset.tokenizer = full_dataset.tokenizer\n",
    "    masked_full_dataset.data = full_dataset.data\n",
    "    masked_train_dataset, masked_val_dataset = random_split(masked_full_dataset, [train_size, val_size])\n",
    "    masked_train_loader = get_loader(masked_train_dataset, batch_size=batch_size)\n",
    "    masked_val_loader = get_loader(masked_val_dataset, batch_size=batch_size)\n",
    "    \n",
    "    return masked_train_loader, masked_val_loader"
   ]
  },
  {
   "cell_type": "markdown",
   "metadata": {},
   "source": [
    "### Training loop\n",
    "\n",
    "in this loop we create a new bertGan model for each percentage of dataset visible for the model, and then return the metrics of the training loop in the end, saving the metrics by percentage for future plots."
   ]
  },
  {
   "cell_type": "code",
   "execution_count": null,
   "metadata": {
    "execution": {
     "iopub.execute_input": "2024-02-03T15:42:58.035055Z",
     "iopub.status.busy": "2024-02-03T15:42:58.034618Z"
    }
   },
   "outputs": [],
   "source": [
    "from transformers import get_linear_schedule_with_warmup, get_constant_schedule_with_warmup\n",
    "\n",
    "percentages = [0.01, 0.05, 0.1, 0.5]\n",
    "metrics_by_percentage = {}\n",
    "\n",
    "for percentage in percentages:\n",
    "    print(f\"\"\"\n",
    "=================================================================================================\n",
    "\n",
    "                                Training on {100 * percentage} % of the dataset\n",
    "    \n",
    "=================================================================================================\n",
    "\n",
    "    \"\"\")\n",
    "    # Define model\n",
    "    bert, _ = get_bert(model=\"distil\")\n",
    "\n",
    "    generator = FF_Generator(\n",
    "        in_features=latent_size, hidden_dim=hidden_dim, out_features=hidden_dim\n",
    "    )\n",
    "    discriminator = Discriminator(\n",
    "        k=K, in_features=hidden_dim\n",
    "    )\n",
    "    bertGan = BertGan(\n",
    "        generator, discriminator, bert, fast_gen_grad=False,# no_grad_bert=True,\n",
    "    )\n",
    "\n",
    "    if torch.cuda.device_count() > 1: # Since we are using different ootimizers\n",
    "        print(\"using\", torch.cuda.device_count(), \"GPUs!\")\n",
    "        bertGan.bert = nn.DataParallel(bertGan.bert)\n",
    "        bertGan.discriminator = nn.DataParallel(bertGan.discriminator)\n",
    "        bertGan.generator = nn.DataParallel(bertGan.generator)\n",
    "        \n",
    "    bertGan = bertGan.to(device)\n",
    "\n",
    "    # hyper-parameters\n",
    "    d_lr = 5e-4\n",
    "    g_lr = 5e-4\n",
    "    batch_size = 128\n",
    "    num_epochs = 3\n",
    "    warmup_ratio = 0.1\n",
    "    num_training_steps = int(train_size / batch_size * num_epochs)\n",
    "    num_warmup_steps   = int(num_training_steps * warmup_ratio)\n",
    "    \n",
    "    #optimizer\n",
    "    bert_optimizer = optim.AdamW(bertGan.bert.parameters(), lr=d_lr) \n",
    "    dis_optimizer = optim.AdamW(bertGan.discriminator.parameters(), lr=d_lr)\n",
    "    gen_optimizer = optim.AdamW(bertGan.generator.parameters(), lr=g_lr) \n",
    "    \n",
    "    #scheduler\n",
    "    bert_scheduler = get_linear_schedule_with_warmup(\n",
    "        bert_optimizer, num_warmup_steps=num_warmup_steps, num_training_steps=num_training_steps,\n",
    "    )\n",
    "    dis_scheduler = None\n",
    "    gen_scheduler = None\n",
    "    \n",
    "    # Training\n",
    "    masked_train_loader, masked_val_loader = get_masked_loader(\n",
    "        train_path, percentage, full_dataset, train_size, val_size, batch_size=batch_size,\n",
    "    )\n",
    "    metrics = train_bertgan(\n",
    "        bertGan, \n",
    "        dis_optimizer, gen_optimizer, bert_optimizer,\n",
    "        dis_scheduler=dis_scheduler, gen_scheduler=gen_scheduler, bert_scheduler=bert_scheduler,\n",
    "        masked_train_loader=masked_train_loader, val_loader=masked_val_loader, n_critic=1, num_epochs=num_epochs,\n",
    "    )\n",
    "    \n",
    "    # Save model checkpoint\n",
    "    checkpoint = {\n",
    "        'percentage': percentage,\n",
    "        'model_state_dict': bertGan.state_dict(),\n",
    "        'metrics': metrics,\n",
    "        'disc_optimizer_state_dict': dis_optimizer.state_dict(),\n",
    "        'gen_optimizer_state_dict': gen_optimizer.state_dict(),\n",
    "    }\n",
    "    \n",
    "    torch.save(checkpoint, f'./bertgan_G1_with_grad/model_checkpoint_{int(percentage * 100)}%.pth')\n",
    "    metrics_by_percentage[f\"{int(percentage * 100)}%\"] = metrics"
   ]
  },
  {
   "cell_type": "code",
   "execution_count": null,
   "metadata": {},
   "outputs": [],
   "source": [
    "import matplotlib.pyplot as plt\n",
    "\n",
    "percentages = list(metrics_by_percentage.keys())\n",
    "\n",
    "fig, axs = plt.subplots(1, 2, figsize=(12, 5))\n",
    "\n",
    "# Plot training and validation loss\n",
    "axs[0].plot(percentages, [metrics['train_loss'][-1] for metrics in metrics_by_percentage.values()], label='Train Loss')\n",
    "axs[0].plot(percentages, [metrics['val_loss'][-1] for metrics in metrics_by_percentage.values()], label='Validation Loss')\n",
    "axs[0].set_title(\"Loss as a function of dataset percentage\")\n",
    "axs[0].set_xlabel('Percentage of the dataset')\n",
    "axs[0].set_ylabel('Loss')\n",
    "axs[0].legend()\n",
    "\n",
    "# Plot training and validation accuracy\n",
    "axs[1].plot(percentages, [metrics['train_acc'][-1] * 100 for metrics in metrics_by_percentage.values()], label='Train Accuracy')\n",
    "axs[1].plot(percentages, [metrics['val_acc'][-1] * 100 for metrics in metrics_by_percentage.values()], label='Validation Accuracy')\n",
    "axs[1].set_title(\"Accuracy as a function of dataset percentage\")\n",
    "axs[1].set_xlabel('Percentage of the dataset')\n",
    "axs[1].set_ylabel('Accuracy (%)')\n",
    "axs[1].legend()\n",
    "\n",
    "plt.tight_layout()\n",
    "plt.show()"
   ]
  },
  {
   "cell_type": "code",
   "execution_count": 20,
   "metadata": {
    "execution": {
     "iopub.execute_input": "2024-02-03T09:26:50.858833Z",
     "iopub.status.busy": "2024-02-03T09:26:50.858446Z",
     "iopub.status.idle": "2024-02-03T09:26:50.863181Z",
     "shell.execute_reply": "2024-02-03T09:26:50.862242Z",
     "shell.execute_reply.started": "2024-02-03T09:26:50.858802Z"
    }
   },
   "outputs": [],
   "source": [
    "train_path = '/kaggle/working/train.json'"
   ]
  },
  {
   "cell_type": "code",
   "execution_count": 67,
   "metadata": {
    "execution": {
     "iopub.execute_input": "2024-02-03T15:42:53.718695Z",
     "iopub.status.busy": "2024-02-03T15:42:53.717914Z",
     "iopub.status.idle": "2024-02-03T15:42:54.721759Z",
     "shell.execute_reply": "2024-02-03T15:42:54.720691Z",
     "shell.execute_reply.started": "2024-02-03T15:42:53.718659Z"
    }
   },
   "outputs": [
    {
     "data": {
      "text/plain": [
       "5647"
      ]
     },
     "execution_count": 67,
     "metadata": {},
     "output_type": "execute_result"
    }
   ],
   "source": [
    "import gc\n",
    "torch.cuda.empty_cache()\n",
    "del bertGan , bert, g_vars, d_vars\n",
    "gc.collect()"
   ]
  },
  {
   "cell_type": "markdown",
   "metadata": {},
   "source": [
    "## Testing G1\n",
    "\n",
    "here we use the test dataset and check the accuracy of each trained model, with respect the percentage of dataset used."
   ]
  },
  {
   "cell_type": "code",
   "execution_count": null,
   "metadata": {
    "execution": {
     "iopub.execute_input": "2024-02-03T15:01:09.583516Z",
     "iopub.status.busy": "2024-02-03T15:01:09.582787Z",
     "iopub.status.idle": "2024-02-03T15:01:38.260046Z",
     "shell.execute_reply": "2024-02-03T15:01:38.258774Z",
     "shell.execute_reply.started": "2024-02-03T15:01:09.583483Z"
    }
   },
   "outputs": [],
   "source": [
    "from tqdm import tqdm\n",
    "percentages = [0.01, 0.05, 0.1, 0.5]\n",
    "acc_per_percent = {}\n",
    "for percentage in percentages:\n",
    "    # Define model\n",
    "    bert, _ = get_bert(model=\"distil\")\n",
    "\n",
    "    generator = FF_Generator(\n",
    "        in_features=latent_size, hidden_dim=hidden_dim, out_features=hidden_dim\n",
    "    )\n",
    "    discriminator = Discriminator(\n",
    "        k=K, in_features=hidden_dim\n",
    "    )\n",
    "    bertgan = BertGan(\n",
    "        generator, discriminator, bert, fast_gen_grad=False,# no_grad_bert=True,\n",
    "    )\n",
    "\n",
    "    if torch.cuda.device_count() > 1: # Since we are using different ootimizers\n",
    "        print(\"using\", torch.cuda.device_count(), \"GPUs!\")\n",
    "        bertgan.bert = nn.DataParallel(bertgan.bert)\n",
    "        bertgan.discriminator = nn.DataParallel(bertgan.discriminator)\n",
    "        bertgan.generator = nn.DataParallel(bertgan.generator)\n",
    "    \n",
    "    metrics = {'loss': [], 'accuracy': []}\n",
    "    bertgan = bertgan.to(device)\n",
    "    # Load model\n",
    "    path = f'./bertgan_G1_with_grad/model_checkpoint_{int(percentage * 100)}%.pth'\n",
    "    checkpoint = torch.load(path)\n",
    "    bertgan_state_dict = checkpoint['model_state_dict']\n",
    "    bertgan.load_state_dict(bertgan_state_dict)\n",
    "    # Testing\n",
    "    bertgan.eval()\n",
    "    test_loss = 0.0\n",
    "    all_predicts_test = np.array([])\n",
    "    all_labels_test = np.array([])\n",
    "    with torch.no_grad():\n",
    "        for inputs, labels, token in tqdm(test_loader, desc=f'Testing'):\n",
    "            token, labels = token.to(device), labels.to(device)\n",
    "            outputs = bertgan(token, labels=labels)\n",
    "            loss = outputs['d_loss']\n",
    "\n",
    "            test_loss += loss.item()\n",
    "\n",
    "            # Calculate accuracy\n",
    "            _, predicted = torch.max(outputs['probs'], 1)\n",
    "            all_predicts_test = np.append(all_predicts_test, predicted.detach().cpu().numpy())\n",
    "            all_labels_test = np.append(all_labels_test, labels.detach().cpu().numpy())\n",
    "\n",
    "    test_acc = (all_predicts_test == all_labels_test).sum().item() / len(all_predicts_test)\n",
    "\n",
    "    metrics['loss'].append(test_loss / len(test_loader))\n",
    "    metrics['accuracy'].append(test_acc)\n",
    "    \n",
    "    metrics_by_percentage[f\"{int(percentage * 100)}%\"] = metrics"
   ]
  },
  {
   "cell_type": "code",
   "execution_count": null,
   "metadata": {
    "execution": {
     "iopub.execute_input": "2024-02-03T15:10:47.774998Z",
     "iopub.status.busy": "2024-02-03T15:10:47.774016Z",
     "iopub.status.idle": "2024-02-03T15:10:47.980413Z",
     "shell.execute_reply": "2024-02-03T15:10:47.979536Z",
     "shell.execute_reply.started": "2024-02-03T15:10:47.774961Z"
    }
   },
   "outputs": [],
   "source": [
    "plot_results(metrics_by_percentage)"
   ]
  },
  {
   "cell_type": "markdown",
   "metadata": {},
   "source": [
    "## G2 generator\n",
    "\n",
    "in this section we use the same bertGan architechture, but use a Bert based generator instead, using a random text generated by `BOW` as the latent"
   ]
  },
  {
   "cell_type": "code",
   "execution_count": null,
   "metadata": {},
   "outputs": [],
   "source": [
    "from numpy.random import default_rng\n",
    "from time import time\n",
    "from collections import Counter\n",
    "import os\n",
    "import re\n",
    "import json\n",
    "from tqdm import tqdm\n",
    "\n",
    "class BERT_Generator_dataset(SemEvalDataset):\n",
    "    def __init__(self, path, tokenizer, url=None, download=False, sentence_length=512):\n",
    "        super().__init__(path, url, download)\n",
    "        self.word_dict=Counter({})\n",
    "        self.regex='[ ,:,\\\\n,\\\\t,?,\\.,\\(,\\),\",“,”,!,--,},{]'\n",
    "        self.avg_length=0\n",
    "        self.lengths=[]\n",
    "        self.rng=default_rng()\n",
    "        intermediate_dict=Counter({})\n",
    "        i=0\n",
    "        for data in tqdm(self.data):\n",
    "            text=data['text']\n",
    "            split_array=re.split(self.regex,data['text'])\n",
    "            self.avg_length+=len(split_array)/len(self)\n",
    "            self.lengths.append(len(split_array))\n",
    "            intermediate_dict += Counter(split_array)\n",
    "            i+=1\n",
    "            if i%200==0:\n",
    "                self.word_dict+=intermediate_dict\n",
    "                intermediate_dict=Counter({})\n",
    "        self.word_dict+=intermediate_dict\n",
    "        \n",
    "        self.sentence_length=512 #As the histogram says\n",
    "        self.word_dict.pop('')\n",
    "        values=np.array(list(self.word_dict.values()))\n",
    "        self.p=values/np.sum(values)\n",
    "        self.tokenizer=tokenizer\n",
    "        self.arange_arr=np.arange(len(values))\n",
    "        keys=list(self.word_dict.keys())\n",
    "        \n",
    "        tokens=[]\n",
    "        for text in tqdm(keys):\n",
    "            token_dict=tokenizer(text, return_tensors='pt', add_special_tokens = False)\n",
    "            tokens.append(token_dict['input_ids'][0])\n",
    "        s=tokenizer('')['input_ids']\n",
    "        self.tokenizer_eos=torch.tensor([s[1]])\n",
    "        self.tokenizer_bos=torch.tensor([s[0]])\n",
    "        self.tokens=tokens\n",
    "        self.full_attention=torch.ones(self.sentence_length, dtype=torch.long)\n",
    "        \n",
    "    def __getitem__(self, idx):\n",
    "        sample_indices=self.rng.choice(self.arange_arr,size=self.sentence_length, replace=True, p=self.p)\n",
    "        \n",
    "        \n",
    "        \n",
    "        my_tensor=self.tokenizer_bos\n",
    "        i=0\n",
    "        temporary_tensor=torch.tensor([0])#It cannot concat empty tensors\n",
    "        for index in sample_indices:\n",
    "            temporary_tensor=torch.cat([temporary_tensor,self.tokens[index]],dim=0)\n",
    "            i+=1\n",
    "            \n",
    "            if i%25==0:\n",
    "\n",
    "                my_tensor=torch.cat([my_tensor,temporary_tensor[1:]],dim=0)\n",
    "                \n",
    "                temporary_tensor=torch.tensor([0])\n",
    "        my_tensor=torch.cat([my_tensor,temporary_tensor,self.tokenizer_eos],dim=0)\n",
    "        \n",
    "        n=len(my_tensor)\n",
    "        if n>=self.sentence_length:\n",
    "            my_tensor=torch.cat([my_tensor[:self.sentence_length-1],self.tokenizer_eos],dim=0).type(torch.long)\n",
    "            attention=torch.ones(self.sentence_length, dtype=torch.long)\n",
    "        else:\n",
    "            pad=torch.zeros(self.sentence_length-n, dtype=torch.long)\n",
    "            my_tensor=torch.cat([my_tensor,pad],dim=0)\n",
    "            attention=torch.cat([torch.ones(n,dtype=torch.long),pad],dim=0)\n",
    "        out_dict={'input_ids':my_tensor, \n",
    "                  'attention_mask': attention} #'token_type_ids': torch.zeros_like(my_tensor), \n",
    "        \n",
    "        return out_dict"
   ]
  },
  {
   "cell_type": "code",
   "execution_count": null,
   "metadata": {},
   "outputs": [],
   "source": [
    "dataset=BERT_Generator_dataset(tokenizer=tokenizer, path=train_path, url=train_url, download=DOWNLOAD)"
   ]
  },
  {
   "cell_type": "code",
   "execution_count": null,
   "metadata": {},
   "outputs": [],
   "source": [
    "class BERT_Generator(nn.Module):\n",
    "    def __init__(self, bert, dataset, device, has_pooler=False, batch_size=24):\n",
    "        super(BERT_Generator, self).__init__()\n",
    "        self.bert = bert.to(device)\n",
    "        self.has_pooler = has_pooler\n",
    "        self.batch_size=batch_size\n",
    "        self.dataset=dataset\n",
    "        self.dataloader=DataLoader(self.dataset, batch_size=batch_size, shuffle=False)\n",
    "        self.iter=iter(self.dataloader)\n",
    "        self.device=device\n",
    "        \n",
    "        for parameters in bert.embeddings.parameters():\n",
    "            parameters.requires_grad=False\n",
    "        for parameters in bert.encoder.parameters():\n",
    "            parameters.requires_grad=False\n",
    "    def forward(self, _):\n",
    "        try:\n",
    "            bag_of_words=next(self.iter)\n",
    "        except:\n",
    "            self.iter=iter(self.dataloader)\n",
    "            bag_of_words=next(self.iter)\n",
    "        outputs = self.bert(input_ids=bag_of_words['input_ids'].to(device), attention_mask=bag_of_words['attention_mask'].to(device))\n",
    "        y = outputs.pooler_output if self.has_pooler else outputs.last_hidden_state[:, 0]\n",
    "        \n",
    "        return y.to(self.device)"
   ]
  },
  {
   "cell_type": "markdown",
   "metadata": {},
   "source": [
    "### Code for run, with minor changes from the previous parts\n"
   ]
  },
  {
   "cell_type": "code",
   "execution_count": null,
   "metadata": {},
   "outputs": [],
   "source": [
    "from transformers import get_linear_schedule_with_warmup, get_cosine_schedule_with_warmup\n",
    "percentages = [0.01]\n",
    "metrics_by_percentage = {}\n",
    "for percentage in percentages:\n",
    "    gen_bert, tokenizer = get_bert(model=\"bert\")\n",
    "\n",
    "    generator = BERT_Generator(\n",
    "        gen_bert, dataset, has_pooler=False, batch_size=24, device=device)\n",
    "    discriminator = Discriminator(\n",
    "        k=K, in_features=hidden_dim\n",
    "    )\n",
    "    bertGan = BertGan(\n",
    "        generator, discriminator, bert, fast_gen_grad=True, no_grad_bert=True,\n",
    "    )\n",
    "\n",
    "    if torch.cuda.device_count() > 1: # Since we are using different optimizers\n",
    "        print(\"using\", torch.cuda.device_count(), \"GPUs!\")\n",
    "        bertGan.bert = nn.DataParallel(bertGan.bert)\n",
    "        bertGan.discriminator = nn.DataParallel(bertGan.discriminator)\n",
    "        bertGan.generator = nn.DataParallel(bertGan.generator)\n",
    "    bertGan = bertGan.to(device)\n",
    "\n",
    "    # hyper-parameters\n",
    "    d_lr = 5e-4\n",
    "    g_lr = 5e-4\n",
    "    batch_size = 24\n",
    "    num_epochs = 1\n",
    "    warmup_ratio = 0.1\n",
    "    num_training_steps = int(train_size / batch_size * num_epochs)\n",
    "    num_warmup_steps   = int(num_training_steps * warmup_ratio)\n",
    "    \n",
    "    #optimizer\n",
    "    bert_optimizer = optim.AdamW(bertGan.bert.parameters(), lr=d_lr) \n",
    "    dis_optimizer = optim.AdamW(bertGan.discriminator.parameters(), lr=d_lr)\n",
    "    gen_optimizer = optim.AdamW(bertGan.generator.parameters(), lr=g_lr) \n",
    "    \n",
    "    #scheduler\n",
    "    bert_scheduler = get_cosine_schedule_with_warmup(\n",
    "        bert_optimizer, num_warmup_steps=num_warmup_steps, num_training_steps=num_training_steps,\n",
    "    )\n",
    "#     dis_scheduler = get_linear_schedule_with_warmup(\n",
    "#         dis_optimizer, num_warmup_steps=num_warmup_steps, num_training_steps=num_training_steps,\n",
    "#     )\n",
    "    dis_scheduler = None\n",
    "    gen_scheduler = get_cosine_schedule_with_warmup(\n",
    "        gen_optimizer, num_warmup_steps=num_warmup_steps, num_training_steps=num_training_steps,\n",
    "    )\n",
    "    \n",
    "    # Training\n",
    "    masked_train_loader, masked_val_loader = get_masked_loader(\n",
    "        train_path, percentage, full_dataset, train_size, val_size, batch_size=batch_size,\n",
    "    )\n",
    "    print('----Before Train----')\n",
    "    metrics = train_bertgan(\n",
    "        bertGan, \n",
    "        dis_optimizer, gen_optimizer, bert_optimizer,\n",
    "        dis_scheduler=dis_scheduler, gen_scheduler=gen_scheduler, bert_scheduler=bert_scheduler,\n",
    "        masked_train_loader=masked_train_loader, val_loader=masked_val_loader, n_critic=1, num_epochs=num_epochs,\n",
    "    )\n",
    "    \n",
    "    # Save model checkpoint\n",
    "    checkpoint = {\n",
    "        'percentage': percentage,\n",
    "        'model_state_dict': bertGan.state_dict(),\n",
    "        'metrics': metrics,\n",
    "        'disc_optimizer_state_dict': dis_optimizer.state_dict(),\n",
    "        'gen_optimizer_state_dict': gen_optimizer.state_dict(),\n",
    "    }\n",
    "    \n",
    "    torch.save(checkpoint, f'./bertgan_G2_without_most_grad/model_checkpoint_{int(percentage * 100)}%.pth')\n",
    "    metrics_by_percentage[f\"{int(percentage * 100)}%\"] = metrics"
   ]
  },
  {
   "cell_type": "markdown",
   "metadata": {},
   "source": [
    "## Mixture generator"
   ]
  },
  {
   "cell_type": "markdown",
   "metadata": {},
   "source": [
    "for the bonus section, we propose the MixtureBertGan architecture. in this architecture we will be trying to create a strong \n",
    "\n",
    "in this proposal the generator model is a mixture of experts architecture, each expert specializing in replicating embedding from one of the labels.\n",
    "\n",
    "in effect the generator becomes conditioned on the label.\n",
    "\n",
    "we also modify the feature matching of the loss, making it be class-wise.\n",
    "\n",
    "$$\n",
    "L_{\\mathcal{G}_{\\text {feature matching }}} = \\frac{1}{K}\\sum_{y=1}^{k}\\frac{1}{\\text{hidden\\_dim}}||\\mathbb{E}_{x \\sim p_d} f(x|y)- \\mathbb{E}_{x \\sim \\mathcal{G}} f(x|y) ||_2^2\n",
    "$$\n",
    "\n",
    "in effect, instead of the generator just trying to create a _real_ embedding, it will try to fake a _real chat gpt_ embedding. which would help in the adversarial training process.\n"
   ]
  },
  {
   "cell_type": "code",
   "execution_count": null,
   "metadata": {},
   "outputs": [],
   "source": [
    "import torch.nn.functional as F\n",
    "\n",
    "class MixtureGenerator(nn.Module):\n",
    "    def __init__(self, latent_size, num_labels, hidden_dim=256, out_features=768, dropout_prob=0.15):\n",
    "        super(MixtureGenerator, self).__init__()\n",
    "        self.latent_size = latent_size\n",
    "        self.num_labels = num_labels\n",
    "\n",
    "        # Main generator\n",
    "        self.main_generator = FF_Generator(in_features=latent_size, hidden_dim=hidden_dim, out_features=out_features, dropout_prob=dropout_prob)\n",
    "\n",
    "        # Create generators for each label\n",
    "        self.label_generators = nn.ModuleList([\n",
    "            FF_Generator(in_features=latent_size, hidden_dim=hidden_dim, out_features=out_features, dropout_prob=dropout_prob)\n",
    "            for _ in range(num_labels)\n",
    "        ])\n",
    "\n",
    "    def forward(self, x, labels):\n",
    "        # Generate the main embedding\n",
    "        main_embedding = self.main_generator(x)\n",
    "\n",
    "        # Generate embeddings for each label\n",
    "        label_embeddings = torch.stack([\n",
    "            generator(x) for generator in self.label_generators\n",
    "        ])\n",
    "        \n",
    "        # Use the main embedding for labels with -1 (indicating the main generator)\n",
    "        selected_embeddings = label_embeddings[labels, range(len(labels))]\n",
    "        \n",
    "        # Combine the selected embeddings\n",
    "        combined_embeddings = main_embedding + selected_embeddings\n",
    "\n",
    "        return combined_embeddings\n",
    "\n",
    "\n",
    "# Testing\n",
    "latent_size = 100\n",
    "num_labels = 6\n",
    "mixture_generator = MixtureGenerator(latent_size=latent_size, num_labels=num_labels, out_features=768)\n",
    "\n",
    "num_samples = 40\n",
    "random_latents = torch.randn((num_samples, latent_size))\n",
    "labels = torch.randint(0, num_labels, (num_samples,))\n",
    "\n",
    "generated_samples = mixture_generator(random_latents, labels)\n",
    "\n",
    "print(generated_samples.shape)"
   ]
  },
  {
   "cell_type": "markdown",
   "metadata": {},
   "source": [
    "### MixtureBertGan\n",
    "\n",
    "same logic, just used for correct loss calculation"
   ]
  },
  {
   "cell_type": "code",
   "execution_count": null,
   "metadata": {},
   "outputs": [],
   "source": [
    "class MixtureBertGan(nn.Module):\n",
    "    def __init__(self, MixtureGenerator, Discriminator, Bert, fast_gen_grad=False, has_pooler=False, no_grad_bert=False):\n",
    "        super(MixtureBertGan, self).__init__()\n",
    "\n",
    "        self.generator = MixtureGenerator\n",
    "        self.discriminator = Discriminator\n",
    "        self.bert = Bert\n",
    "        num_labels = self.discriminator.k\n",
    "        self.num_labels = num_labels\n",
    "\n",
    "        self.k = self.discriminator.k\n",
    "        self.epsilon = 1e-8\n",
    "\n",
    "        self.gen_log_grad = fast_gen_grad\n",
    "        self.has_pooler = has_pooler\n",
    "        self.no_grad_bert = no_grad_bert\n",
    "\n",
    "    def forward(self, inputs, z=None, labels=None, label_mask=None):\n",
    "        # Bert real data forward pass\n",
    "        bert_outputs = self.bert(**inputs)\n",
    "        x_r = bert_outputs.pooler_output if self.has_pooler else bert_outputs.last_hidden_state[:, 0]\n",
    "        if self.no_grad_bert:\n",
    "            x_r = x_r.detach()\n",
    "\n",
    "        # Discriminator forward pass on real data\n",
    "        D_real_prob, D_real_logits, D_real_features = self.discriminator(x_r)\n",
    "\n",
    "        # Supervised loss\n",
    "        real_logits = D_real_logits[:, :-1]\n",
    "        real_prob = F.softmax(real_logits, dim=-1)\n",
    "        d_loss_sup = 0\n",
    "        if labels is not None:\n",
    "            if label_mask is None:\n",
    "                label_mask = torch.ones_like(labels)\n",
    "            ce = F.cross_entropy(real_logits, labels, reduction='none')\n",
    "            masked_ce = ce * label_mask\n",
    "            d_loss_sup = masked_ce.sum() / max(label_mask.sum(), 1)\n",
    "\n",
    "        # Inference mode\n",
    "        if z is None:\n",
    "            # If latent (z) is None, skip the generator and set g_loss to None\n",
    "            d_loss = -torch.mean(\n",
    "                torch.log(1 - D_real_prob[:, -1] + self.epsilon)\n",
    "            ) + d_loss_sup\n",
    "            return {\n",
    "                'probs': real_prob,\n",
    "                'logits': real_logits,\n",
    "                'd_loss': d_loss,\n",
    "                'g_loss': None,\n",
    "            }\n",
    "\n",
    "        # Generator forward pass\n",
    "        x_g = self.generator(z, labels)\n",
    "\n",
    "        # Discriminator forward pass on fake data\n",
    "        D_fake_prob, D_fake_logits, D_fake_features = self.discriminator(x_g)\n",
    "\n",
    "        # Discriminator loss\n",
    "        # Unsupervised loss\n",
    "        d_loss_unsup = -torch.mean(\n",
    "            torch.log(1 - D_real_prob[:, -1] + self.epsilon)\n",
    "        ) - torch.mean(\n",
    "            torch.log(D_fake_prob[:, -1] + self.epsilon)\n",
    "        )\n",
    "\n",
    "        d_loss = d_loss_unsup + d_loss_sup\n",
    "\n",
    "        # Generator loss\n",
    "        g_loss_unsup = -torch.mean(\n",
    "            torch.log(1 - D_fake_prob[:, -1] + self.epsilon)\n",
    "            if not self.gen_log_grad else\n",
    "            - torch.log(D_fake_prob[:, -1] + self.epsilon)\n",
    "        )\n",
    "\n",
    "        g_loss_feature_match = 0.0\n",
    "\n",
    "        for label_idx in range(self.num_labels):\n",
    "            real_features_label = D_real_features[labels == label_idx]\n",
    "            fake_features_label = D_fake_features[labels == label_idx]\n",
    "\n",
    "            if len(real_features_label) > 0 and len(fake_features_label) > 0:\n",
    "                mean_real_features_label = torch.mean(real_features_label, dim=0)\n",
    "                mean_fake_features_label = torch.mean(fake_features_label, dim=0)\n",
    "\n",
    "                g_loss_feature_match += torch.mean((mean_real_features_label - mean_fake_features_label) ** 2)\n",
    "\n",
    "        g_loss = g_loss_unsup + g_loss_feature_match\n",
    "        output = {\n",
    "            'probs': real_prob,\n",
    "            'logits': real_logits,\n",
    "            'd_loss': d_loss,\n",
    "            'g_loss': g_loss,\n",
    "        }\n",
    "\n",
    "        return output"
   ]
  },
  {
   "cell_type": "markdown",
   "metadata": {},
   "source": [
    "#### Testing"
   ]
  },
  {
   "cell_type": "code",
   "execution_count": null,
   "metadata": {},
   "outputs": [],
   "source": [
    "# Test\n",
    "bert, tokenizer = get_bert()\n",
    "bert_gan = MixtureBertGan(MixtureGenerator=mixture_generator, Discriminator=discriminator, Bert=bert)\n",
    "\n",
    "batch_size = 5\n",
    "latent_batch_size = 5\n",
    "random_latents = torch.randn((latent_batch_size, latent_size))\n",
    "random_inputs = tokenizer(\n",
    "    [\"ali nourian save me\"] * batch_size, return_tensors='pt', truncation=True, padding=\"max_length\"\n",
    ")\n",
    "random_labels = torch.randint(0, discriminator.k, (batch_size,))\n",
    "random_mask   = torch.randint(0, 2, (batch_size,))\n",
    "\n",
    "# Train\n",
    "output = bert_gan(random_inputs, random_latents, random_labels, random_mask)\n",
    "# Inference\n",
    "output_inf = bert_gan(random_inputs)\n",
    "\n",
    "print(\"Training:\\n\")\n",
    "print(\"Discriminator Loss:\", output['d_loss'].item())\n",
    "print(\"Generator Loss:\", output['g_loss'].item())\n",
    "print(\"Logits:\", output['logits'].shape)\n",
    "print(\"Probabilities:\", output['probs'].shape)\n",
    "print(\"\\nInference:\\n\")\n",
    "print(\"Discriminator Loss:\", output_inf['d_loss'].item())\n",
    "print(\"Generator Loss:\", output_inf['g_loss'])\n",
    "print(\"Logits:\", output_inf['logits'].shape)\n",
    "print(\"Probabilities:\", output_inf['probs'].shape)\n",
    "\n",
    "# Testing good grads\n",
    "output['g_loss'].backward(retain_graph=True)\n",
    "output['d_loss'].backward()"
   ]
  },
  {
   "cell_type": "code",
   "execution_count": null,
   "metadata": {},
   "outputs": [],
   "source": [
    "!mkdir mixture"
   ]
  },
  {
   "cell_type": "markdown",
   "metadata": {},
   "source": [
    "#### Training MixtureBertGan model"
   ]
  },
  {
   "cell_type": "code",
   "execution_count": null,
   "metadata": {},
   "outputs": [],
   "source": [
    "from transformers import get_linear_schedule_with_warmup, get_constant_schedule_with_warmup\n",
    "\n",
    "percentages = [1]\n",
    "metrics_by_percentage = {}\n",
    "\n",
    "for percentage in percentages:\n",
    "    print(f\"\"\"\n",
    "=================================================================================================\n",
    "\n",
    "                                Training on {100 * percentage} % of the dataset\n",
    "    \n",
    "=================================================================================================\n",
    "\n",
    "    \"\"\")\n",
    "    # Define model\n",
    "    bert, _ = get_bert(model=\"distil\")\n",
    "\n",
    "    generator = MixtureGenerator(\n",
    "        latent_size=latent_size, hidden_dim=hidden_dim, out_features=hidden_dim, num_labels=K,\n",
    "    )\n",
    "    discriminator = Discriminator(\n",
    "        k=K, in_features=hidden_dim\n",
    "    )\n",
    "    bertGan = MixtureBertGan(\n",
    "        generator, discriminator, bert, fast_gen_grad=False,# no_grad_bert=True,\n",
    "    )\n",
    "\n",
    "    if torch.cuda.device_count() > 1: # Since we are using different ootimizers\n",
    "        print(\"using\", torch.cuda.device_count(), \"GPUs!\")\n",
    "        bertGan.bert = nn.DataParallel(bertGan.bert)\n",
    "        bertGan.discriminator = nn.DataParallel(bertGan.discriminator)\n",
    "        bertGan.generator = nn.DataParallel(bertGan.generator)\n",
    "        \n",
    "    bertGan = bertGan.to(device)\n",
    "\n",
    "    # hyper-parameters\n",
    "    d_lr = 5e-4\n",
    "    g_lr = 5e-4\n",
    "    batch_size = 32\n",
    "    num_epochs = 3\n",
    "    warmup_ratio = 0.1\n",
    "    num_training_steps = int(train_size / batch_size * num_epochs)\n",
    "    num_warmup_steps   = int(num_training_steps * warmup_ratio)\n",
    "    \n",
    "    #optimizer\n",
    "    bert_optimizer = optim.AdamW(bertGan.bert.parameters(), lr=d_lr) \n",
    "    dis_optimizer = optim.AdamW(bertGan.discriminator.parameters(), lr=d_lr)\n",
    "    gen_optimizer = optim.AdamW(bertGan.generator.parameters(), lr=g_lr) \n",
    "    \n",
    "    #scheduler\n",
    "    bert_scheduler = get_linear_schedule_with_warmup(\n",
    "        bert_optimizer, num_warmup_steps=num_warmup_steps, num_training_steps=num_training_steps,\n",
    "    )\n",
    "    dis_scheduler = None\n",
    "    gen_scheduler = None\n",
    "    \n",
    "    # Training\n",
    "    masked_train_loader, masked_val_loader = get_masked_loader(\n",
    "        train_path, percentage, full_dataset, train_size, val_size, batch_size=batch_size,\n",
    "    )\n",
    "    metrics = train_bertgan(\n",
    "        bertGan, \n",
    "        dis_optimizer, gen_optimizer, bert_optimizer,\n",
    "        dis_scheduler=dis_scheduler, gen_scheduler=gen_scheduler, bert_scheduler=bert_scheduler,\n",
    "        masked_train_loader=masked_train_loader, val_loader=masked_val_loader, n_critic=1, num_epochs=num_epochs,\n",
    "    )\n",
    "    \n",
    "    # Save model checkpoint\n",
    "    checkpoint = {\n",
    "        'percentage': percentage,\n",
    "        'model_state_dict': bertGan.state_dict(),\n",
    "        'metrics': metrics,\n",
    "        'disc_optimizer_state_dict': dis_optimizer.state_dict(),\n",
    "        'gen_optimizer_state_dict': gen_optimizer.state_dict(),\n",
    "    }\n",
    "    \n",
    "    torch.save(checkpoint, f'./mixture/model_checkpoint_{int(percentage * 100)}%.pth')\n",
    "    metrics_by_percentage[f\"{int(percentage * 100)}%\"] = metrics"
   ]
  },
  {
   "cell_type": "code",
   "execution_count": null,
   "metadata": {},
   "outputs": [],
   "source": [
    "import matplotlib.pyplot as plt\n",
    "\n",
    "percentages = list(metrics_by_percentage.keys())\n",
    "\n",
    "fig, axs = plt.subplots(1, 2, figsize=(12, 5))\n",
    "\n",
    "# Plot training and validation loss\n",
    "axs[0].plot(percentages, [metrics['train_loss'][-1] for metrics in metrics_by_percentage.values()], label='Train Loss')\n",
    "axs[0].plot(percentages, [metrics['val_loss'][-1] for metrics in metrics_by_percentage.values()], label='Validation Loss')\n",
    "axs[0].set_title(\"Loss as a function of dataset percentage\")\n",
    "axs[0].set_xlabel('Percentage of the dataset')\n",
    "axs[0].set_ylabel('Loss')\n",
    "axs[0].legend()\n",
    "\n",
    "# Plot training and validation accuracy\n",
    "axs[1].plot(percentages, [metrics['train_acc'][-1] * 100 for metrics in metrics_by_percentage.values()], label='Train Accuracy')\n",
    "axs[1].plot(percentages, [metrics['val_acc'][-1] * 100 for metrics in metrics_by_percentage.values()], label='Validation Accuracy')\n",
    "axs[1].set_title(\"Accuracy as a function of dataset percentage\")\n",
    "axs[1].set_xlabel('Percentage of the dataset')\n",
    "axs[1].set_ylabel('Accuracy (%)')\n",
    "axs[1].legend()\n",
    "\n",
    "plt.tight_layout()\n",
    "plt.show()"
   ]
  },
  {
   "cell_type": "markdown",
   "metadata": {},
   "source": [
    "#### Testing model"
   ]
  },
  {
   "cell_type": "code",
   "execution_count": null,
   "metadata": {},
   "outputs": [],
   "source": [
    "from tqdm import tqdm\n",
    "percentages = [1]\n",
    "acc_per_percent = {}\n",
    "for percentage in percentages:\n",
    "    # Define model\n",
    "    bert, _ = get_bert(model=\"distil\")\n",
    "\n",
    "    generator = MixtureGenerator(\n",
    "        latent_size=latent_size, hidden_dim=hidden_dim, out_features=hidden_dim, num_labels=K,\n",
    "    )\n",
    "    discriminator = Discriminator(\n",
    "        k=K, in_features=hidden_dim\n",
    "    )\n",
    "    bertgan = MixtureBertGan(\n",
    "        generator, discriminator, bert, fast_gen_grad=False,# no_grad_bert=True,\n",
    "    )\n",
    "\n",
    "    if torch.cuda.device_count() > 1: # Since we are using different ootimizers\n",
    "        print(\"using\", torch.cuda.device_count(), \"GPUs!\")\n",
    "        bertgan.bert = nn.DataParallel(bertgan.bert)\n",
    "        bertgan.discriminator = nn.DataParallel(bertgan.discriminator)\n",
    "        bertgan.generator = nn.DataParallel(bertgan.generator)\n",
    "        \n",
    "    bertgan = bertgan.to(device)\n",
    "    \n",
    "    metrics = {'loss': [], 'accuracy': []}\n",
    "    # Load model\n",
    "    path = f'./mixture/model_checkpoint_{int(percentage * 100)}%.pth'\n",
    "    checkpoint = torch.load(path)\n",
    "    bertgan_state_dict = checkpoint['model_state_dict']\n",
    "    bertgan.load_state_dict(bertgan_state_dict)\n",
    "    # Testing\n",
    "    bertgan.eval()\n",
    "    test_loss = 0.0\n",
    "    all_predicts_test = np.array([])\n",
    "    all_labels_test = np.array([])\n",
    "    with torch.no_grad():\n",
    "        for inputs, labels, token in tqdm(test_loader, desc=f'Testing'):\n",
    "            token, labels = token.to(device), labels.to(device)\n",
    "            outputs = bertgan(token, labels=labels)\n",
    "            loss = outputs['d_loss']\n",
    "\n",
    "            test_loss += loss.item()\n",
    "\n",
    "            # Calculate accuracy\n",
    "            _, predicted = torch.max(outputs['probs'], 1)\n",
    "            all_predicts_test = np.append(all_predicts_test, predicted.detach().cpu().numpy())\n",
    "            all_labels_test = np.append(all_labels_test, labels.detach().cpu().numpy())\n",
    "\n",
    "    test_acc = (all_predicts_test == all_labels_test).sum().item() / len(all_predicts_test)\n",
    "\n",
    "    metrics['loss'].append(test_loss / len(test_loader))\n",
    "    metrics['accuracy'].append(test_acc)\n",
    "    \n",
    "    metrics_by_percentage[f\"{int(percentage * 100)}%\"] = metrics\n",
    "    \n",
    "metrics_by_percentage"
   ]
  },
  {
   "cell_type": "code",
   "execution_count": null,
   "metadata": {},
   "outputs": [],
   "source": [
    "import gc\n",
    "torch.cuda.empty_cache()\n",
    "del bertGan , bert\n",
    "gc.collect()"
   ]
  },
  {
   "cell_type": "markdown",
   "metadata": {},
   "source": [
    "## Data distribution analysis\n",
    "\n",
    "in this section we analyse the distribution of the test and train datasets, we claim that the datasets are not equivalent, hence why we are not getting good results from the test sets, even though we are getting good results on the cross validation set."
   ]
  },
  {
   "cell_type": "markdown",
   "metadata": {},
   "source": [
    "#### Finding principal components"
   ]
  },
  {
   "cell_type": "code",
   "execution_count": null,
   "metadata": {},
   "outputs": [],
   "source": [
    "from sklearn.decomposition import PCA\n",
    "import matplotlib.pyplot as plt\n",
    "import torch\n",
    "\n",
    "dist_train_val_loader = get_loader(full_dataset, batch_size=16)\n",
    "dist_test_loader = get_loader(test_dataset, batch_size=16)\n",
    "\n",
    "num_labels = K\n",
    "\n",
    "all_embeddings_train = {label: [] for label in range(num_labels)}\n",
    "all_embeddings_test = {label: [] for label in range(num_labels)}\n",
    "\n",
    "with torch.no_grad():\n",
    "    for _, labels, token in tqdm(dist_train_val_loader, desc='finding train set distribution'):\n",
    "        token = token.to(device)\n",
    "        embedding = bert(**token).last_hidden_state[:, 0].detach().cpu().numpy()\n",
    "\n",
    "        for label, emb in zip(labels.numpy(), embedding):\n",
    "            all_embeddings_train[label].append(emb)\n",
    "            \n",
    "        break\n",
    "with torch.no_grad():\n",
    "    for _, labels, token in tqdm(dist_test_loader, desc='finding test set distribution'):\n",
    "        token = token.to(device)\n",
    "        embedding = bert(**token).last_hidden_state[:, 0].detach().cpu().numpy()\n",
    "\n",
    "        for label, emb in zip(labels.numpy(), embedding):\n",
    "            all_embeddings_test[label].append(emb)\n",
    "            \n",
    "            \n",
    "\n",
    "# Convert the lists of embeddings to tensors\n",
    "for label in range(num_labels):\n",
    "    all_embeddings_train[label] = torch.from_numpy(np.array(all_embeddings_train[label]))\n",
    "    all_embeddings_test[label] = torch.from_numpy(np.array(all_embeddings_test[label]))\n",
    "    \n",
    "pca_train = {label: PCA(n_components=2).fit_transform(all_embeddings_train[label]) for label in range(num_labels)}\n",
    "pca_test = {label: PCA(n_components=2).fit_transform(all_embeddings_test[label]) for label in range(num_labels)}"
   ]
  },
  {
   "cell_type": "markdown",
   "metadata": {},
   "source": [
    "#### Plotting distribution"
   ]
  },
  {
   "cell_type": "code",
   "execution_count": null,
   "metadata": {},
   "outputs": [],
   "source": [
    "# Plot the distributions for each class overlayed in subplots\n",
    "plt.figure(figsize=(12, 9))\n",
    "\n",
    "# Plot for each class\n",
    "for label in range(num_labels):\n",
    "    plt.subplot(2, 3, label + 1) \n",
    "    plt.scatter(pca_train[label][:, 0], pca_train[label][:, 1], label='Train Set', alpha=0.5)\n",
    "    plt.scatter(pca_test[label][:, 0], pca_test[label][:, 1], label='Test Set', alpha=0.5)\n",
    "    plt.xlabel('Principal Component 1')\n",
    "    plt.ylabel('Principal Component 2')\n",
    "    plt.title(f'Distribution of Embeddings (Class {label})')\n",
    "    plt.legend()\n",
    "\n",
    "plt.tight_layout()\n",
    "plt.show()"
   ]
  },
  {
   "cell_type": "markdown",
   "metadata": {},
   "source": [
    "as seen from the results, the two datasets clearly have different distributions thus explaining why our models are learning the task well on the training and validation datasets,\n",
    "but not on the test/dev dataset."
   ]
  }
 ],
 "metadata": {
  "kaggle": {
   "accelerator": "nvidiaTeslaT4",
   "dataSources": [],
   "dockerImageVersionId": 30635,
   "isGpuEnabled": true,
   "isInternetEnabled": true,
   "language": "python",
   "sourceType": "notebook"
  },
  "kernelspec": {
   "display_name": "Python 3",
   "language": "python",
   "name": "python3"
  },
  "language_info": {
   "codemirror_mode": {
    "name": "ipython",
    "version": 3
   },
   "file_extension": ".py",
   "mimetype": "text/x-python",
   "name": "python",
   "nbconvert_exporter": "python",
   "pygments_lexer": "ipython3",
   "version": "3.8.8"
  }
 },
 "nbformat": 4,
 "nbformat_minor": 4
}
